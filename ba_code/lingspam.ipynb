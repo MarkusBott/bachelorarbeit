{
 "cells": [
  {
   "cell_type": "code",
   "execution_count": 1,
   "metadata": {},
   "outputs": [
    {
     "name": "stderr",
     "output_type": "stream",
     "text": [
      "[nltk_data] Downloading package wordnet to /home/makus/nltk_data...\n",
      "[nltk_data]   Package wordnet is already up-to-date!\n",
      "[nltk_data] Downloading package stopwords to /home/makus/nltk_data...\n",
      "[nltk_data]   Package stopwords is already up-to-date!\n"
     ]
    }
   ],
   "source": [
    "import pandas as pd\n",
    "import numpy as np\n",
    "import matplotlib.pyplot as plt\n",
    "import import_data\n",
    "import preprocessing\n",
    "import feature_extraction\n",
    "import dimension_reduction\n",
    "import classification\n",
    "import matplotlib\n",
    "import os\n",
    "\n",
    "test_size = 0.2\n",
    "random_state = 104"
   ]
  },
  {
   "cell_type": "code",
   "execution_count": 2,
   "metadata": {},
   "outputs": [],
   "source": [
    "\n",
    "os.chdir('/home/makus/Documents/Semester_7_WIN2022/Bachelorarbeit/bachelor-thesis/img/')"
   ]
  },
  {
   "attachments": {},
   "cell_type": "markdown",
   "metadata": {},
   "source": [
    "# load data"
   ]
  },
  {
   "cell_type": "code",
   "execution_count": 3,
   "metadata": {},
   "outputs": [
    {
     "data": {
      "text/html": [
       "<div>\n",
       "<style scoped>\n",
       "    .dataframe tbody tr th:only-of-type {\n",
       "        vertical-align: middle;\n",
       "    }\n",
       "\n",
       "    .dataframe tbody tr th {\n",
       "        vertical-align: top;\n",
       "    }\n",
       "\n",
       "    .dataframe thead th {\n",
       "        text-align: right;\n",
       "    }\n",
       "</style>\n",
       "<table border=\"1\" class=\"dataframe\">\n",
       "  <thead>\n",
       "    <tr style=\"text-align: right;\">\n",
       "      <th></th>\n",
       "      <th>text</th>\n",
       "      <th>label</th>\n",
       "    </tr>\n",
       "  </thead>\n",
       "  <tbody>\n",
       "    <tr>\n",
       "      <th>0</th>\n",
       "      <td>job posting - apple-iss research centercontent...</td>\n",
       "      <td>0</td>\n",
       "    </tr>\n",
       "    <tr>\n",
       "      <th>1</th>\n",
       "      <td>Subjectlang classification grimes , joseph e ....</td>\n",
       "      <td>0</td>\n",
       "    </tr>\n",
       "    <tr>\n",
       "      <th>2</th>\n",
       "      <td>query : letter frequencies for text identifica...</td>\n",
       "      <td>0</td>\n",
       "    </tr>\n",
       "    <tr>\n",
       "      <th>3</th>\n",
       "      <td>riska colleague and i are researching the diff...</td>\n",
       "      <td>0</td>\n",
       "    </tr>\n",
       "    <tr>\n",
       "      <th>4</th>\n",
       "      <td>request book informationearlier this morning i...</td>\n",
       "      <td>0</td>\n",
       "    </tr>\n",
       "    <tr>\n",
       "      <th>...</th>\n",
       "      <td>...</td>\n",
       "      <td>...</td>\n",
       "    </tr>\n",
       "    <tr>\n",
       "      <th>2888</th>\n",
       "      <td>love your profile - ysuolvpvhello thanks for s...</td>\n",
       "      <td>1</td>\n",
       "    </tr>\n",
       "    <tr>\n",
       "      <th>2889</th>\n",
       "      <td>you have been asked to join kiddinthe list own...</td>\n",
       "      <td>1</td>\n",
       "    </tr>\n",
       "    <tr>\n",
       "      <th>2890</th>\n",
       "      <td>anglicization of composers ' namesjudging from...</td>\n",
       "      <td>0</td>\n",
       "    </tr>\n",
       "    <tr>\n",
       "      <th>2891</th>\n",
       "      <td>re : 6 . 797 , comparative method : n - ary co...</td>\n",
       "      <td>0</td>\n",
       "    </tr>\n",
       "    <tr>\n",
       "      <th>2892</th>\n",
       "      <td>re : american - english in australiahello ! i ...</td>\n",
       "      <td>0</td>\n",
       "    </tr>\n",
       "  </tbody>\n",
       "</table>\n",
       "<p>2893 rows × 2 columns</p>\n",
       "</div>"
      ],
      "text/plain": [
       "                                                   text  label\n",
       "0     job posting - apple-iss research centercontent...      0\n",
       "1     Subjectlang classification grimes , joseph e ....      0\n",
       "2     query : letter frequencies for text identifica...      0\n",
       "3     riska colleague and i are researching the diff...      0\n",
       "4     request book informationearlier this morning i...      0\n",
       "...                                                 ...    ...\n",
       "2888  love your profile - ysuolvpvhello thanks for s...      1\n",
       "2889  you have been asked to join kiddinthe list own...      1\n",
       "2890  anglicization of composers ' namesjudging from...      0\n",
       "2891  re : 6 . 797 , comparative method : n - ary co...      0\n",
       "2892  re : american - english in australiahello ! i ...      0\n",
       "\n",
       "[2893 rows x 2 columns]"
      ]
     },
     "execution_count": 3,
     "metadata": {},
     "output_type": "execute_result"
    }
   ],
   "source": [
    "lingspam = import_data.create_df_from_csv('/home/makus/Documents/Semester_7_WIN2022/Bachelorarbeit/ba_code/datasets/messages.csv')\n",
    "lingspam"
   ]
  },
  {
   "attachments": {},
   "cell_type": "markdown",
   "metadata": {},
   "source": [
    "# feature extraction + dimension reduction"
   ]
  },
  {
   "cell_type": "code",
   "execution_count": 4,
   "metadata": {},
   "outputs": [
    {
     "name": "stdout",
     "output_type": "stream",
     "text": [
      "It took 1.4373121860044193 second(s) to finish TF-IDF feature extraction.\n",
      "It took 6.4033081460001995 second(s) to finish dimension reduction with Sparse Random Projection.\n",
      "It took 32.410001904994715 second(s) to finish dimension reduction with IPCA.\n"
     ]
    },
    {
     "data": {
      "text/plain": [
       "(2893, 100)"
      ]
     },
     "execution_count": 4,
     "metadata": {},
     "output_type": "execute_result"
    }
   ],
   "source": [
    "y = lingspam['label']\n",
    "mails = lingspam['text']\n",
    "\n",
    "tfidf_mails = feature_extraction.tfidf_vectorize(mails)\n",
    "sparse_mails = dimension_reduction.sparse_random_projection(tfidf_mails)\n",
    "ipca_mails = dimension_reduction.ipca(sparse_mails, 100)\n",
    "X = ipca_mails\n",
    "del mails, tfidf_mails, sparse_mails, ipca_mails, lingspam\n",
    "\n",
    "X.shape"
   ]
  },
  {
   "cell_type": "code",
   "execution_count": 5,
   "metadata": {},
   "outputs": [
    {
     "data": {
      "image/png": "[encoded data removed]",
      "text/plain": [
       "<Figure size 432x288 with 1 Axes>"
      ]
     },
     "metadata": {
      "needs_background": "light"
     },
     "output_type": "display_data"
    }
   ],
   "source": [
    "xs = X[:,0]\n",
    "ys = X[:,1]\n",
    "colors = y\n",
    "\n",
    "plt.figure()\n",
    "plt.scatter(xs, ys, c=colors, alpha=0.5)\n",
    "plt.savefig('lingspam_graph.pdf')\n",
    "plt.show()"
   ]
  },
  {
   "attachments": {},
   "cell_type": "markdown",
   "metadata": {},
   "source": [
    "you can see two elliptical clusters with an intersection in [-0.1:0.1] [-0.1:0.2]. \n",
    "Thoughts: Classification in this plane can be hard"
   ]
  },
  {
   "attachments": {},
   "cell_type": "markdown",
   "metadata": {},
   "source": [
    "# Reference SVM classification"
   ]
  },
  {
   "cell_type": "code",
   "execution_count": 6,
   "metadata": {},
   "outputs": [
    {
     "name": "stdout",
     "output_type": "stream",
     "text": [
      "SVM model fitted in 0.525622283006669 second(s)\n",
      "SVM predicted the testset in 0.08250778699584771 second(s)\n"
     ]
    },
    {
     "data": {
      "text/html": [
       "<div>\n",
       "<style scoped>\n",
       "    .dataframe tbody tr th:only-of-type {\n",
       "        vertical-align: middle;\n",
       "    }\n",
       "\n",
       "    .dataframe tbody tr th {\n",
       "        vertical-align: top;\n",
       "    }\n",
       "\n",
       "    .dataframe thead th {\n",
       "        text-align: right;\n",
       "    }\n",
       "</style>\n",
       "<table border=\"1\" class=\"dataframe\">\n",
       "  <thead>\n",
       "    <tr style=\"text-align: right;\">\n",
       "      <th></th>\n",
       "      <th>0</th>\n",
       "      <th>1</th>\n",
       "      <th>accuracy</th>\n",
       "      <th>macro avg</th>\n",
       "      <th>weighted avg</th>\n",
       "    </tr>\n",
       "  </thead>\n",
       "  <tbody>\n",
       "    <tr>\n",
       "      <th>precision</th>\n",
       "      <td>0.949416</td>\n",
       "      <td>1.000000</td>\n",
       "      <td>0.955095</td>\n",
       "      <td>0.974708</td>\n",
       "      <td>0.957366</td>\n",
       "    </tr>\n",
       "    <tr>\n",
       "      <th>recall</th>\n",
       "      <td>1.000000</td>\n",
       "      <td>0.714286</td>\n",
       "      <td>0.955095</td>\n",
       "      <td>0.857143</td>\n",
       "      <td>0.955095</td>\n",
       "    </tr>\n",
       "    <tr>\n",
       "      <th>f1-score</th>\n",
       "      <td>0.974052</td>\n",
       "      <td>0.833333</td>\n",
       "      <td>0.955095</td>\n",
       "      <td>0.903693</td>\n",
       "      <td>0.951936</td>\n",
       "    </tr>\n",
       "    <tr>\n",
       "      <th>support</th>\n",
       "      <td>488.000000</td>\n",
       "      <td>91.000000</td>\n",
       "      <td>0.955095</td>\n",
       "      <td>579.000000</td>\n",
       "      <td>579.000000</td>\n",
       "    </tr>\n",
       "  </tbody>\n",
       "</table>\n",
       "</div>"
      ],
      "text/plain": [
       "                    0          1  accuracy   macro avg  weighted avg\n",
       "precision    0.949416   1.000000  0.955095    0.974708      0.957366\n",
       "recall       1.000000   0.714286  0.955095    0.857143      0.955095\n",
       "f1-score     0.974052   0.833333  0.955095    0.903693      0.951936\n",
       "support    488.000000  91.000000  0.955095  579.000000    579.000000"
      ]
     },
     "execution_count": 6,
     "metadata": {},
     "output_type": "execute_result"
    }
   ],
   "source": [
    "reference_report, X_test, y_test, y_pred = classification.svm(X,y,test_size, random_state)\n",
    "\n",
    "reference_report"
   ]
  },
  {
   "attachments": {},
   "cell_type": "markdown",
   "metadata": {},
   "source": [
    "this is our reference svm for the comparison"
   ]
  },
  {
   "cell_type": "code",
   "execution_count": 7,
   "metadata": {},
   "outputs": [
    {
     "name": "stdout",
     "output_type": "stream",
     "text": [
      "Got 26 classificaton mistakes\n"
     ]
    },
    {
     "data": {
      "image/png": "[encoded data removed]",
      "text/plain": [
       "<Figure size 432x288 with 1 Axes>"
      ]
     },
     "metadata": {
      "needs_background": "light"
     },
     "output_type": "display_data"
    }
   ],
   "source": [
    "x_wrong = X_test[y_test != y_pred]\n",
    "print(\"Got %d classificaton mistakes\" % len(x_wrong))\n",
    "\n",
    "fig, ax = plt.subplots()\n",
    "ax.scatter(X_test[:,0], X_test[:,1], c=y_pred, marker=\"o\")\n",
    "ax.scatter(x_wrong[:,0], x_wrong[:,1], color='red', marker=\"x\")\n",
    "plt.show()"
   ]
  },
  {
   "attachments": {},
   "cell_type": "markdown",
   "metadata": {},
   "source": [
    "# K-Means with random or kmeans++ init centroids"
   ]
  },
  {
   "attachments": {},
   "cell_type": "markdown",
   "metadata": {},
   "source": [
    "We want to find out, which centroid initialisation method works better for us"
   ]
  },
  {
   "attachments": {},
   "cell_type": "markdown",
   "metadata": {},
   "source": [
    "### random:"
   ]
  },
  {
   "cell_type": "code",
   "execution_count": 8,
   "metadata": {},
   "outputs": [
    {
     "name": "stdout",
     "output_type": "stream",
     "text": [
      "It took 99.18619827999646 second(s) to search the best k-means clustering for merging hypothesis\n"
     ]
    },
    {
     "data": {
      "text/html": [
       "<div>\n",
       "<style scoped>\n",
       "    .dataframe tbody tr th:only-of-type {\n",
       "        vertical-align: middle;\n",
       "    }\n",
       "\n",
       "    .dataframe tbody tr th {\n",
       "        vertical-align: top;\n",
       "    }\n",
       "\n",
       "    .dataframe thead th {\n",
       "        text-align: right;\n",
       "    }\n",
       "</style>\n",
       "<table border=\"1\" class=\"dataframe\">\n",
       "  <thead>\n",
       "    <tr style=\"text-align: right;\">\n",
       "      <th></th>\n",
       "      <th>0</th>\n",
       "      <th>1</th>\n",
       "      <th>accuracy</th>\n",
       "      <th>macro avg</th>\n",
       "      <th>weighted avg</th>\n",
       "    </tr>\n",
       "  </thead>\n",
       "  <tbody>\n",
       "    <tr>\n",
       "      <th>precision</th>\n",
       "      <td>0.943352</td>\n",
       "      <td>0.960114</td>\n",
       "      <td>0.945385</td>\n",
       "      <td>0.951733</td>\n",
       "      <td>0.946139</td>\n",
       "    </tr>\n",
       "    <tr>\n",
       "      <th>recall</th>\n",
       "      <td>0.994196</td>\n",
       "      <td>0.700624</td>\n",
       "      <td>0.945385</td>\n",
       "      <td>0.847410</td>\n",
       "      <td>0.945385</td>\n",
       "    </tr>\n",
       "    <tr>\n",
       "      <th>f1-score</th>\n",
       "      <td>0.968107</td>\n",
       "      <td>0.810096</td>\n",
       "      <td>0.945385</td>\n",
       "      <td>0.889101</td>\n",
       "      <td>0.941835</td>\n",
       "    </tr>\n",
       "    <tr>\n",
       "      <th>support</th>\n",
       "      <td>2412.000000</td>\n",
       "      <td>481.000000</td>\n",
       "      <td>0.945385</td>\n",
       "      <td>2893.000000</td>\n",
       "      <td>2893.000000</td>\n",
       "    </tr>\n",
       "  </tbody>\n",
       "</table>\n",
       "</div>"
      ],
      "text/plain": [
       "                     0           1  accuracy    macro avg  weighted avg\n",
       "precision     0.943352    0.960114  0.945385     0.951733      0.946139\n",
       "recall        0.994196    0.700624  0.945385     0.847410      0.945385\n",
       "f1-score      0.968107    0.810096  0.945385     0.889101      0.941835\n",
       "support    2412.000000  481.000000  0.945385  2893.000000   2893.000000"
      ]
     },
     "execution_count": 8,
     "metadata": {},
     "output_type": "execute_result"
    }
   ],
   "source": [
    "pd_report, pred_labels, kmeans_labels = classification.search_best_for_n_cluster(2,X,y,random=True)\n",
    "pd_report"
   ]
  },
  {
   "attachments": {},
   "cell_type": "markdown",
   "metadata": {},
   "source": [
    "### kmeans++:"
   ]
  },
  {
   "cell_type": "code",
   "execution_count": 9,
   "metadata": {},
   "outputs": [
    {
     "name": "stdout",
     "output_type": "stream",
     "text": [
      "It took 114.07963341799768 second(s) to search the best k-means clustering for merging hypothesis\n"
     ]
    },
    {
     "data": {
      "text/html": [
       "<div>\n",
       "<style scoped>\n",
       "    .dataframe tbody tr th:only-of-type {\n",
       "        vertical-align: middle;\n",
       "    }\n",
       "\n",
       "    .dataframe tbody tr th {\n",
       "        vertical-align: top;\n",
       "    }\n",
       "\n",
       "    .dataframe thead th {\n",
       "        text-align: right;\n",
       "    }\n",
       "</style>\n",
       "<table border=\"1\" class=\"dataframe\">\n",
       "  <thead>\n",
       "    <tr style=\"text-align: right;\">\n",
       "      <th></th>\n",
       "      <th>0</th>\n",
       "      <th>1</th>\n",
       "      <th>accuracy</th>\n",
       "      <th>macro avg</th>\n",
       "      <th>weighted avg</th>\n",
       "    </tr>\n",
       "  </thead>\n",
       "  <tbody>\n",
       "    <tr>\n",
       "      <th>precision</th>\n",
       "      <td>0.942981</td>\n",
       "      <td>0.960000</td>\n",
       "      <td>0.94504</td>\n",
       "      <td>0.951490</td>\n",
       "      <td>0.945810</td>\n",
       "    </tr>\n",
       "    <tr>\n",
       "      <th>recall</th>\n",
       "      <td>0.994196</td>\n",
       "      <td>0.698545</td>\n",
       "      <td>0.94504</td>\n",
       "      <td>0.846370</td>\n",
       "      <td>0.945040</td>\n",
       "    </tr>\n",
       "    <tr>\n",
       "      <th>f1-score</th>\n",
       "      <td>0.967911</td>\n",
       "      <td>0.808664</td>\n",
       "      <td>0.94504</td>\n",
       "      <td>0.888288</td>\n",
       "      <td>0.941434</td>\n",
       "    </tr>\n",
       "    <tr>\n",
       "      <th>support</th>\n",
       "      <td>2412.000000</td>\n",
       "      <td>481.000000</td>\n",
       "      <td>0.94504</td>\n",
       "      <td>2893.000000</td>\n",
       "      <td>2893.000000</td>\n",
       "    </tr>\n",
       "  </tbody>\n",
       "</table>\n",
       "</div>"
      ],
      "text/plain": [
       "                     0           1  accuracy    macro avg  weighted avg\n",
       "precision     0.942981    0.960000   0.94504     0.951490      0.945810\n",
       "recall        0.994196    0.698545   0.94504     0.846370      0.945040\n",
       "f1-score      0.967911    0.808664   0.94504     0.888288      0.941434\n",
       "support    2412.000000  481.000000   0.94504  2893.000000   2893.000000"
      ]
     },
     "execution_count": 9,
     "metadata": {},
     "output_type": "execute_result"
    }
   ],
   "source": [
    "pd_report, labels, kmeans_labels = classification.search_best_for_n_cluster(2,X,y,random=False)\n",
    "pd_report"
   ]
  },
  {
   "attachments": {},
   "cell_type": "markdown",
   "metadata": {},
   "source": [
    "seems like random performs better and is massive performance increase."
   ]
  },
  {
   "attachments": {},
   "cell_type": "markdown",
   "metadata": {},
   "source": [
    "# K-Means + Elbow plot"
   ]
  },
  {
   "attachments": {},
   "cell_type": "markdown",
   "metadata": {},
   "source": [
    "Now we create our elbow graph. A cluster count above 25 has not much sense"
   ]
  },
  {
   "cell_type": "code",
   "execution_count": 11,
   "metadata": {},
   "outputs": [
    {
     "data": {
      "image/png": "[encoded data removed]",
      "text/plain": [
       "<Figure size 432x288 with 1 Axes>"
      ]
     },
     "metadata": {
      "needs_background": "light"
     },
     "output_type": "display_data"
    }
   ],
   "source": [
    "max_cluster = 25\n",
    "inertias = classification.elbow_inertias_list(X,max_cluster)\n",
    "\n",
    "plt.figure()\n",
    "plt.plot(range(1,max_cluster), inertias, marker='o')\n",
    "plt.title('Ling-Spam')\n",
    "plt.xlabel('Number of clusters')\n",
    "plt.ylabel('Inertia')\n",
    "plt.savefig('lingspam_elbow_high_dim.pdf')\n",
    "plt.show() "
   ]
  },
  {
   "cell_type": "code",
   "execution_count": 12,
   "metadata": {},
   "outputs": [
    {
     "data": {
      "image/png": "[encoded data removed]",
      "text/plain": [
       "<Figure size 432x288 with 1 Axes>"
      ]
     },
     "metadata": {
      "needs_background": "light"
     },
     "output_type": "display_data"
    }
   ],
   "source": [
    "max_cluster = 25\n",
    "inertias = classification.elbow_inertias_list(X[:,:2],max_cluster)\n",
    "\n",
    "plt.figure()\n",
    "plt.plot(range(1,max_cluster), inertias, marker='o')\n",
    "plt.title('Ling-Spam')\n",
    "plt.xlabel('Number of clusters')\n",
    "plt.ylabel('Inertia')\n",
    "plt.savefig('lingspam_elbow_two_dim.pdf')\n",
    "plt.show() "
   ]
  },
  {
   "attachments": {},
   "cell_type": "markdown",
   "metadata": {},
   "source": [
    "# SVM and K-Means merging hypothesis"
   ]
  },
  {
   "attachments": {},
   "cell_type": "markdown",
   "metadata": {},
   "source": [
    "Now we test our hypothesis, wether replacing the original labels with k-means generated labels can improve a svm classification"
   ]
  },
  {
   "cell_type": "code",
   "execution_count": 13,
   "metadata": {},
   "outputs": [
    {
     "name": "stdout",
     "output_type": "stream",
     "text": [
      "It took 41.650940946004994 second(s) to search the best k-means clustering for merging hypothesis\n",
      "It took 41.833977362999576 second(s) to complete the svm classification combined with k-means - merging hypothesis\n"
     ]
    },
    {
     "data": {
      "text/html": [
       "<div>\n",
       "<style scoped>\n",
       "    .dataframe tbody tr th:only-of-type {\n",
       "        vertical-align: middle;\n",
       "    }\n",
       "\n",
       "    .dataframe tbody tr th {\n",
       "        vertical-align: top;\n",
       "    }\n",
       "\n",
       "    .dataframe thead th {\n",
       "        text-align: right;\n",
       "    }\n",
       "</style>\n",
       "<table border=\"1\" class=\"dataframe\">\n",
       "  <thead>\n",
       "    <tr style=\"text-align: right;\">\n",
       "      <th></th>\n",
       "      <th>0</th>\n",
       "      <th>1</th>\n",
       "      <th>accuracy</th>\n",
       "      <th>macro avg</th>\n",
       "      <th>weighted avg</th>\n",
       "    </tr>\n",
       "  </thead>\n",
       "  <tbody>\n",
       "    <tr>\n",
       "      <th>precision</th>\n",
       "      <td>0.905380</td>\n",
       "      <td>1.000000</td>\n",
       "      <td>0.911917</td>\n",
       "      <td>0.952690</td>\n",
       "      <td>0.920251</td>\n",
       "    </tr>\n",
       "    <tr>\n",
       "      <th>recall</th>\n",
       "      <td>1.000000</td>\n",
       "      <td>0.439560</td>\n",
       "      <td>0.911917</td>\n",
       "      <td>0.719780</td>\n",
       "      <td>0.911917</td>\n",
       "    </tr>\n",
       "    <tr>\n",
       "      <th>f1-score</th>\n",
       "      <td>0.950341</td>\n",
       "      <td>0.610687</td>\n",
       "      <td>0.911917</td>\n",
       "      <td>0.780514</td>\n",
       "      <td>0.896958</td>\n",
       "    </tr>\n",
       "    <tr>\n",
       "      <th>support</th>\n",
       "      <td>488.000000</td>\n",
       "      <td>91.000000</td>\n",
       "      <td>0.911917</td>\n",
       "      <td>579.000000</td>\n",
       "      <td>579.000000</td>\n",
       "    </tr>\n",
       "  </tbody>\n",
       "</table>\n",
       "</div>"
      ],
      "text/plain": [
       "                    0          1  accuracy   macro avg  weighted avg\n",
       "precision    0.905380   1.000000  0.911917    0.952690      0.920251\n",
       "recall       1.000000   0.439560  0.911917    0.719780      0.911917\n",
       "f1-score     0.950341   0.610687  0.911917    0.780514      0.896958\n",
       "support    488.000000  91.000000  0.911917  579.000000    579.000000"
      ]
     },
     "execution_count": 13,
     "metadata": {},
     "output_type": "execute_result"
    }
   ],
   "source": [
    "report, X_test, y_test, y_pred = classification.svm_merging_hypothesis(2,X,y)\n",
    "report"
   ]
  },
  {
   "attachments": {},
   "cell_type": "markdown",
   "metadata": {},
   "source": [
    "k-means with the original cluster count does not improve the classification"
   ]
  },
  {
   "cell_type": "code",
   "execution_count": 14,
   "metadata": {},
   "outputs": [
    {
     "name": "stdout",
     "output_type": "stream",
     "text": [
      "Got 51 classificaton mistakes\n"
     ]
    },
    {
     "data": {
      "image/png": "[encoded data removed]",
      "text/plain": [
       "<Figure size 432x288 with 1 Axes>"
      ]
     },
     "metadata": {
      "needs_background": "light"
     },
     "output_type": "display_data"
    }
   ],
   "source": [
    "x_wrong = X_test[y_test != y_pred]\n",
    "print(\"Got %d classificaton mistakes\" % len(x_wrong))\n",
    "\n",
    "fig, ax = plt.subplots()\n",
    "ax.scatter(X_test[:,0], X_test[:,1], c=y_pred, marker=\"o\")\n",
    "ax.scatter(x_wrong[:,0], x_wrong[:,1], color='red', marker=\"x\")\n",
    "plt.show()"
   ]
  },
  {
   "attachments": {},
   "cell_type": "markdown",
   "metadata": {},
   "source": [
    "Now we estimate a good cluster count based on the graph"
   ]
  },
  {
   "cell_type": "code",
   "execution_count": 15,
   "metadata": {},
   "outputs": [
    {
     "name": "stdout",
     "output_type": "stream",
     "text": [
      "It took 49.57618884699332 second(s) to search the best k-means clustering for merging hypothesis\n",
      "It took 49.71428771799401 second(s) to complete the svm classification combined with k-means - merging hypothesis\n"
     ]
    },
    {
     "data": {
      "text/html": [
       "<div>\n",
       "<style scoped>\n",
       "    .dataframe tbody tr th:only-of-type {\n",
       "        vertical-align: middle;\n",
       "    }\n",
       "\n",
       "    .dataframe tbody tr th {\n",
       "        vertical-align: top;\n",
       "    }\n",
       "\n",
       "    .dataframe thead th {\n",
       "        text-align: right;\n",
       "    }\n",
       "</style>\n",
       "<table border=\"1\" class=\"dataframe\">\n",
       "  <thead>\n",
       "    <tr style=\"text-align: right;\">\n",
       "      <th></th>\n",
       "      <th>0</th>\n",
       "      <th>1</th>\n",
       "      <th>accuracy</th>\n",
       "      <th>macro avg</th>\n",
       "      <th>weighted avg</th>\n",
       "    </tr>\n",
       "  </thead>\n",
       "  <tbody>\n",
       "    <tr>\n",
       "      <th>precision</th>\n",
       "      <td>0.902033</td>\n",
       "      <td>1.000000</td>\n",
       "      <td>0.908463</td>\n",
       "      <td>0.951017</td>\n",
       "      <td>0.917430</td>\n",
       "    </tr>\n",
       "    <tr>\n",
       "      <th>recall</th>\n",
       "      <td>1.000000</td>\n",
       "      <td>0.417582</td>\n",
       "      <td>0.908463</td>\n",
       "      <td>0.708791</td>\n",
       "      <td>0.908463</td>\n",
       "    </tr>\n",
       "    <tr>\n",
       "      <th>f1-score</th>\n",
       "      <td>0.948494</td>\n",
       "      <td>0.589147</td>\n",
       "      <td>0.908463</td>\n",
       "      <td>0.768820</td>\n",
       "      <td>0.892016</td>\n",
       "    </tr>\n",
       "    <tr>\n",
       "      <th>support</th>\n",
       "      <td>488.000000</td>\n",
       "      <td>91.000000</td>\n",
       "      <td>0.908463</td>\n",
       "      <td>579.000000</td>\n",
       "      <td>579.000000</td>\n",
       "    </tr>\n",
       "  </tbody>\n",
       "</table>\n",
       "</div>"
      ],
      "text/plain": [
       "                    0          1  accuracy   macro avg  weighted avg\n",
       "precision    0.902033   1.000000  0.908463    0.951017      0.917430\n",
       "recall       1.000000   0.417582  0.908463    0.708791      0.908463\n",
       "f1-score     0.948494   0.589147  0.908463    0.768820      0.892016\n",
       "support    488.000000  91.000000  0.908463  579.000000    579.000000"
      ]
     },
     "execution_count": 15,
     "metadata": {},
     "output_type": "execute_result"
    }
   ],
   "source": [
    "report, X_test, y_test, y_pred = classification.svm_merging_hypothesis(5,X,y)\n",
    "report"
   ]
  },
  {
   "cell_type": "code",
   "execution_count": 16,
   "metadata": {},
   "outputs": [
    {
     "name": "stdout",
     "output_type": "stream",
     "text": [
      "Got 53 classificaton mistakes\n"
     ]
    },
    {
     "data": {
      "image/png": "[encoded data removed]",
      "text/plain": [
       "<Figure size 432x288 with 1 Axes>"
      ]
     },
     "metadata": {
      "needs_background": "light"
     },
     "output_type": "display_data"
    }
   ],
   "source": [
    "x_wrong = X_test[y_test != y_pred]\n",
    "print(\"Got %d classificaton mistakes\" % len(x_wrong))\n",
    "\n",
    "fig, ax = plt.subplots()\n",
    "ax.scatter(X_test[:,0], X_test[:,1], c=y_pred, marker=\"o\")\n",
    "ax.scatter(x_wrong[:,0], x_wrong[:,1], color='red', marker=\"x\")\n",
    "plt.show()"
   ]
  },
  {
   "attachments": {},
   "cell_type": "markdown",
   "metadata": {},
   "source": [
    "For increasing the number of clusters, the classification is getting worse.\n",
    "The classification results are worse than the normal SVM\n",
    "\n",
    "-> Merging is not a good approach"
   ]
  },
  {
   "attachments": {},
   "cell_type": "markdown",
   "metadata": {},
   "source": [
    "# Adding K-means clustering as new feature"
   ]
  },
  {
   "attachments": {},
   "cell_type": "markdown",
   "metadata": {},
   "source": [
    "we add now the k-means clustering result as a new column in our dataset and then classify the data with a svm. -> Test this approach with cluster count between 2 and 25"
   ]
  },
  {
   "cell_type": "code",
   "execution_count": 17,
   "metadata": {},
   "outputs": [
    {
     "data": {
      "text/html": [
       "<div>\n",
       "<style scoped>\n",
       "    .dataframe tbody tr th:only-of-type {\n",
       "        vertical-align: middle;\n",
       "    }\n",
       "\n",
       "    .dataframe tbody tr th {\n",
       "        vertical-align: top;\n",
       "    }\n",
       "\n",
       "    .dataframe thead th {\n",
       "        text-align: right;\n",
       "    }\n",
       "</style>\n",
       "<table border=\"1\" class=\"dataframe\">\n",
       "  <thead>\n",
       "    <tr style=\"text-align: right;\">\n",
       "      <th></th>\n",
       "      <th>0</th>\n",
       "      <th>1</th>\n",
       "      <th>accuracy</th>\n",
       "      <th>macro avg</th>\n",
       "      <th>weighted avg</th>\n",
       "    </tr>\n",
       "  </thead>\n",
       "  <tbody>\n",
       "    <tr>\n",
       "      <th>precision</th>\n",
       "      <td>0.949416</td>\n",
       "      <td>1.000000</td>\n",
       "      <td>0.955095</td>\n",
       "      <td>0.974708</td>\n",
       "      <td>0.957366</td>\n",
       "    </tr>\n",
       "    <tr>\n",
       "      <th>recall</th>\n",
       "      <td>1.000000</td>\n",
       "      <td>0.714286</td>\n",
       "      <td>0.955095</td>\n",
       "      <td>0.857143</td>\n",
       "      <td>0.955095</td>\n",
       "    </tr>\n",
       "    <tr>\n",
       "      <th>f1-score</th>\n",
       "      <td>0.974052</td>\n",
       "      <td>0.833333</td>\n",
       "      <td>0.955095</td>\n",
       "      <td>0.903693</td>\n",
       "      <td>0.951936</td>\n",
       "    </tr>\n",
       "    <tr>\n",
       "      <th>support</th>\n",
       "      <td>488.000000</td>\n",
       "      <td>91.000000</td>\n",
       "      <td>0.955095</td>\n",
       "      <td>579.000000</td>\n",
       "      <td>579.000000</td>\n",
       "    </tr>\n",
       "  </tbody>\n",
       "</table>\n",
       "</div>"
      ],
      "text/plain": [
       "                    0          1  accuracy   macro avg  weighted avg\n",
       "precision    0.949416   1.000000  0.955095    0.974708      0.957366\n",
       "recall       1.000000   0.714286  0.955095    0.857143      0.955095\n",
       "f1-score     0.974052   0.833333  0.955095    0.903693      0.951936\n",
       "support    488.000000  91.000000  0.955095  579.000000    579.000000"
      ]
     },
     "execution_count": 17,
     "metadata": {},
     "output_type": "execute_result"
    }
   ],
   "source": [
    "reference_report"
   ]
  },
  {
   "cell_type": "code",
   "execution_count": 18,
   "metadata": {},
   "outputs": [
    {
     "data": {
      "text/html": [
       "<div>\n",
       "<style scoped>\n",
       "    .dataframe tbody tr th:only-of-type {\n",
       "        vertical-align: middle;\n",
       "    }\n",
       "\n",
       "    .dataframe tbody tr th {\n",
       "        vertical-align: top;\n",
       "    }\n",
       "\n",
       "    .dataframe thead th {\n",
       "        text-align: right;\n",
       "    }\n",
       "</style>\n",
       "<table border=\"1\" class=\"dataframe\">\n",
       "  <thead>\n",
       "    <tr style=\"text-align: right;\">\n",
       "      <th></th>\n",
       "      <th>Number_of_clusters</th>\n",
       "      <th>Accuracy</th>\n",
       "      <th>F_one_Score</th>\n",
       "      <th>Time</th>\n",
       "    </tr>\n",
       "  </thead>\n",
       "  <tbody>\n",
       "    <tr>\n",
       "      <th>0</th>\n",
       "      <td>2.0</td>\n",
       "      <td>0.934370</td>\n",
       "      <td>0.962376</td>\n",
       "      <td>3.561412</td>\n",
       "    </tr>\n",
       "    <tr>\n",
       "      <th>1</th>\n",
       "      <td>3.0</td>\n",
       "      <td>0.932642</td>\n",
       "      <td>0.961500</td>\n",
       "      <td>3.917538</td>\n",
       "    </tr>\n",
       "    <tr>\n",
       "      <th>2</th>\n",
       "      <td>4.0</td>\n",
       "      <td>0.908463</td>\n",
       "      <td>0.948393</td>\n",
       "      <td>4.325124</td>\n",
       "    </tr>\n",
       "    <tr>\n",
       "      <th>3</th>\n",
       "      <td>5.0</td>\n",
       "      <td>0.794473</td>\n",
       "      <td>0.885246</td>\n",
       "      <td>4.278433</td>\n",
       "    </tr>\n",
       "    <tr>\n",
       "      <th>4</th>\n",
       "      <td>6.0</td>\n",
       "      <td>0.842832</td>\n",
       "      <td>0.914714</td>\n",
       "      <td>4.620426</td>\n",
       "    </tr>\n",
       "    <tr>\n",
       "      <th>5</th>\n",
       "      <td>7.0</td>\n",
       "      <td>0.880829</td>\n",
       "      <td>0.930373</td>\n",
       "      <td>4.805475</td>\n",
       "    </tr>\n",
       "    <tr>\n",
       "      <th>6</th>\n",
       "      <td>8.0</td>\n",
       "      <td>0.816926</td>\n",
       "      <td>0.899240</td>\n",
       "      <td>4.884113</td>\n",
       "    </tr>\n",
       "    <tr>\n",
       "      <th>7</th>\n",
       "      <td>9.0</td>\n",
       "      <td>0.816926</td>\n",
       "      <td>0.899240</td>\n",
       "      <td>5.492682</td>\n",
       "    </tr>\n",
       "    <tr>\n",
       "      <th>8</th>\n",
       "      <td>10.0</td>\n",
       "      <td>0.842832</td>\n",
       "      <td>0.914714</td>\n",
       "      <td>5.322818</td>\n",
       "    </tr>\n",
       "    <tr>\n",
       "      <th>9</th>\n",
       "      <td>11.0</td>\n",
       "      <td>0.842832</td>\n",
       "      <td>0.914714</td>\n",
       "      <td>5.910963</td>\n",
       "    </tr>\n",
       "    <tr>\n",
       "      <th>10</th>\n",
       "      <td>12.0</td>\n",
       "      <td>0.777202</td>\n",
       "      <td>0.868769</td>\n",
       "      <td>7.490012</td>\n",
       "    </tr>\n",
       "    <tr>\n",
       "      <th>11</th>\n",
       "      <td>13.0</td>\n",
       "      <td>0.868739</td>\n",
       "      <td>0.921488</td>\n",
       "      <td>6.888102</td>\n",
       "    </tr>\n",
       "    <tr>\n",
       "      <th>12</th>\n",
       "      <td>14.0</td>\n",
       "      <td>0.867012</td>\n",
       "      <td>0.923383</td>\n",
       "      <td>6.358530</td>\n",
       "    </tr>\n",
       "    <tr>\n",
       "      <th>13</th>\n",
       "      <td>15.0</td>\n",
       "      <td>0.718480</td>\n",
       "      <td>0.836181</td>\n",
       "      <td>6.476355</td>\n",
       "    </tr>\n",
       "    <tr>\n",
       "      <th>14</th>\n",
       "      <td>16.0</td>\n",
       "      <td>0.718480</td>\n",
       "      <td>0.836181</td>\n",
       "      <td>6.424287</td>\n",
       "    </tr>\n",
       "    <tr>\n",
       "      <th>15</th>\n",
       "      <td>17.0</td>\n",
       "      <td>0.670121</td>\n",
       "      <td>0.802073</td>\n",
       "      <td>6.604480</td>\n",
       "    </tr>\n",
       "    <tr>\n",
       "      <th>16</th>\n",
       "      <td>18.0</td>\n",
       "      <td>0.670121</td>\n",
       "      <td>0.802073</td>\n",
       "      <td>7.500421</td>\n",
       "    </tr>\n",
       "    <tr>\n",
       "      <th>17</th>\n",
       "      <td>19.0</td>\n",
       "      <td>0.842832</td>\n",
       "      <td>0.914714</td>\n",
       "      <td>7.186589</td>\n",
       "    </tr>\n",
       "    <tr>\n",
       "      <th>18</th>\n",
       "      <td>20.0</td>\n",
       "      <td>0.842832</td>\n",
       "      <td>0.914714</td>\n",
       "      <td>6.721729</td>\n",
       "    </tr>\n",
       "    <tr>\n",
       "      <th>19</th>\n",
       "      <td>21.0</td>\n",
       "      <td>0.841105</td>\n",
       "      <td>0.904564</td>\n",
       "      <td>6.941319</td>\n",
       "    </tr>\n",
       "    <tr>\n",
       "      <th>20</th>\n",
       "      <td>22.0</td>\n",
       "      <td>0.663212</td>\n",
       "      <td>0.797508</td>\n",
       "      <td>7.852878</td>\n",
       "    </tr>\n",
       "    <tr>\n",
       "      <th>21</th>\n",
       "      <td>23.0</td>\n",
       "      <td>0.661485</td>\n",
       "      <td>0.796258</td>\n",
       "      <td>6.478839</td>\n",
       "    </tr>\n",
       "    <tr>\n",
       "      <th>22</th>\n",
       "      <td>24.0</td>\n",
       "      <td>0.682211</td>\n",
       "      <td>0.811088</td>\n",
       "      <td>5.953321</td>\n",
       "    </tr>\n",
       "    <tr>\n",
       "      <th>23</th>\n",
       "      <td>25.0</td>\n",
       "      <td>0.682211</td>\n",
       "      <td>0.811088</td>\n",
       "      <td>6.522852</td>\n",
       "    </tr>\n",
       "  </tbody>\n",
       "</table>\n",
       "</div>"
      ],
      "text/plain": [
       "    Number_of_clusters  Accuracy  F_one_Score      Time\n",
       "0                  2.0  0.934370     0.962376  3.561412\n",
       "1                  3.0  0.932642     0.961500  3.917538\n",
       "2                  4.0  0.908463     0.948393  4.325124\n",
       "3                  5.0  0.794473     0.885246  4.278433\n",
       "4                  6.0  0.842832     0.914714  4.620426\n",
       "5                  7.0  0.880829     0.930373  4.805475\n",
       "6                  8.0  0.816926     0.899240  4.884113\n",
       "7                  9.0  0.816926     0.899240  5.492682\n",
       "8                 10.0  0.842832     0.914714  5.322818\n",
       "9                 11.0  0.842832     0.914714  5.910963\n",
       "10                12.0  0.777202     0.868769  7.490012\n",
       "11                13.0  0.868739     0.921488  6.888102\n",
       "12                14.0  0.867012     0.923383  6.358530\n",
       "13                15.0  0.718480     0.836181  6.476355\n",
       "14                16.0  0.718480     0.836181  6.424287\n",
       "15                17.0  0.670121     0.802073  6.604480\n",
       "16                18.0  0.670121     0.802073  7.500421\n",
       "17                19.0  0.842832     0.914714  7.186589\n",
       "18                20.0  0.842832     0.914714  6.721729\n",
       "19                21.0  0.841105     0.904564  6.941319\n",
       "20                22.0  0.663212     0.797508  7.852878\n",
       "21                23.0  0.661485     0.796258  6.478839\n",
       "22                24.0  0.682211     0.811088  5.953321\n",
       "23                25.0  0.682211     0.811088  6.522852"
      ]
     },
     "execution_count": 18,
     "metadata": {},
     "output_type": "execute_result"
    }
   ],
   "source": [
    "report = classification.k_means_cluster_search(X,y,25)\n",
    "report"
   ]
  },
  {
   "attachments": {},
   "cell_type": "markdown",
   "metadata": {},
   "source": [
    "Doesn't seems to be a good aproach too."
   ]
  },
  {
   "attachments": {},
   "cell_type": "markdown",
   "metadata": {},
   "source": [
    "# Combine both approaches"
   ]
  },
  {
   "attachments": {},
   "cell_type": "markdown",
   "metadata": {},
   "source": [
    "Add the merging approach as a new feature vector to the dataset and then classify with svm."
   ]
  },
  {
   "attachments": {},
   "cell_type": "markdown",
   "metadata": {},
   "source": [
    "It is very computation heavy even on a small dataset. So even a slightly improve is not worth."
   ]
  },
  {
   "cell_type": "code",
   "execution_count": 23,
   "metadata": {},
   "outputs": [
    {
     "name": "stdout",
     "output_type": "stream",
     "text": [
      "It took 46.557713556001545 second(s) to search the best k-means clustering for merging hypothesis\n"
     ]
    },
    {
     "data": {
      "text/html": [
       "<div>\n",
       "<style scoped>\n",
       "    .dataframe tbody tr th:only-of-type {\n",
       "        vertical-align: middle;\n",
       "    }\n",
       "\n",
       "    .dataframe tbody tr th {\n",
       "        vertical-align: top;\n",
       "    }\n",
       "\n",
       "    .dataframe thead th {\n",
       "        text-align: right;\n",
       "    }\n",
       "</style>\n",
       "<table border=\"1\" class=\"dataframe\">\n",
       "  <thead>\n",
       "    <tr style=\"text-align: right;\">\n",
       "      <th></th>\n",
       "      <th>Accuracy</th>\n",
       "      <th>F_one_Score</th>\n",
       "      <th>Time</th>\n",
       "    </tr>\n",
       "  </thead>\n",
       "  <tbody>\n",
       "    <tr>\n",
       "      <th>0</th>\n",
       "      <td>0.929188</td>\n",
       "      <td>0.959685</td>\n",
       "      <td>46.661282</td>\n",
       "    </tr>\n",
       "  </tbody>\n",
       "</table>\n",
       "</div>"
      ],
      "text/plain": [
       "   Accuracy  F_one_Score       Time\n",
       "0  0.929188     0.959685  46.661282"
      ]
     },
     "execution_count": 23,
     "metadata": {},
     "output_type": "execute_result"
    }
   ],
   "source": [
    "report = classification.k_means_cluster_search_merging_hypothesis(X,y,5)\n",
    "report"
   ]
  },
  {
   "cell_type": "code",
   "execution_count": 21,
   "metadata": {},
   "outputs": [
    {
     "name": "stdout",
     "output_type": "stream",
     "text": [
      "It took 62.912851365996175 second(s) to search the best k-means clustering for merging hypothesis\n"
     ]
    },
    {
     "data": {
      "text/html": [
       "<div>\n",
       "<style scoped>\n",
       "    .dataframe tbody tr th:only-of-type {\n",
       "        vertical-align: middle;\n",
       "    }\n",
       "\n",
       "    .dataframe tbody tr th {\n",
       "        vertical-align: top;\n",
       "    }\n",
       "\n",
       "    .dataframe thead th {\n",
       "        text-align: right;\n",
       "    }\n",
       "</style>\n",
       "<table border=\"1\" class=\"dataframe\">\n",
       "  <thead>\n",
       "    <tr style=\"text-align: right;\">\n",
       "      <th></th>\n",
       "      <th>Accuracy</th>\n",
       "      <th>F_one_Score</th>\n",
       "      <th>Time</th>\n",
       "    </tr>\n",
       "  </thead>\n",
       "  <tbody>\n",
       "    <tr>\n",
       "      <th>0</th>\n",
       "      <td>0.927461</td>\n",
       "      <td>0.958743</td>\n",
       "      <td>63.101152</td>\n",
       "    </tr>\n",
       "  </tbody>\n",
       "</table>\n",
       "</div>"
      ],
      "text/plain": [
       "   Accuracy  F_one_Score       Time\n",
       "0  0.927461     0.958743  63.101152"
      ]
     },
     "execution_count": 21,
     "metadata": {},
     "output_type": "execute_result"
    }
   ],
   "source": [
    "report = classification.k_means_cluster_search_merging_hypothesis(X,y,7)\n",
    "report"
   ]
  },
  {
   "attachments": {},
   "cell_type": "markdown",
   "metadata": {},
   "source": [
    "It is very computation heavy even on a small dataset. So even a slightly improve is not worth."
   ]
  }
 ],
 "metadata": {
  "kernelspec": {
   "display_name": "Python 3",
   "language": "python",
   "name": "python3"
  },
  "language_info": {
   "codemirror_mode": {
    "name": "ipython",
    "version": 3
   },
   "file_extension": ".py",
   "mimetype": "text/x-python",
   "name": "python",
   "nbconvert_exporter": "python",
   "pygments_lexer": "ipython3",
   "version": "3.10.6"
  },
  "orig_nbformat": 4,
  "vscode": {
   "interpreter": {
    "hash": "e7370f93d1d0cde622a1f8e1c04877d8463912d04d973331ad4851f04de6915a"
   }
  }
 },
 "nbformat": 4,
 "nbformat_minor": 2
}
