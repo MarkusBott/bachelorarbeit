{
 "cells": [
  {
   "cell_type": "code",
   "execution_count": 1,
   "metadata": {},
   "outputs": [
    {
     "name": "stderr",
     "output_type": "stream",
     "text": [
      "[nltk_data] Downloading package wordnet to /home/makus/nltk_data...\n",
      "[nltk_data]   Package wordnet is already up-to-date!\n",
      "[nltk_data] Downloading package stopwords to /home/makus/nltk_data...\n",
      "[nltk_data]   Package stopwords is already up-to-date!\n"
     ]
    }
   ],
   "source": [
    "import pandas as pd\n",
    "import numpy as np\n",
    "import matplotlib.pyplot as plt\n",
    "import import_data\n",
    "import preprocessing\n",
    "import feature_extraction\n",
    "import dimension_reduction\n",
    "import classification\n",
    "import matplotlib \n",
    "import os\n",
    "\n",
    "test_size = 0.2\n",
    "random_state = 104"
   ]
  },
  {
   "attachments": {},
   "cell_type": "markdown",
   "metadata": {},
   "source": [
    "needed to create pgf datas for including in the paper"
   ]
  },
  {
   "cell_type": "code",
   "execution_count": 2,
   "metadata": {},
   "outputs": [],
   "source": [
    "os.chdir('/home/makus/Documents/Semester_7_WIN2022/Bachelorarbeit/bachelor-thesis/img/')"
   ]
  },
  {
   "attachments": {},
   "cell_type": "markdown",
   "metadata": {},
   "source": [
    "# load data"
   ]
  },
  {
   "cell_type": "code",
   "execution_count": 3,
   "metadata": {},
   "outputs": [
    {
     "data": {
      "text/html": [
       "<div>\n",
       "<style scoped>\n",
       "    .dataframe tbody tr th:only-of-type {\n",
       "        vertical-align: middle;\n",
       "    }\n",
       "\n",
       "    .dataframe tbody tr th {\n",
       "        vertical-align: top;\n",
       "    }\n",
       "\n",
       "    .dataframe thead th {\n",
       "        text-align: right;\n",
       "    }\n",
       "</style>\n",
       "<table border=\"1\" class=\"dataframe\">\n",
       "  <thead>\n",
       "    <tr style=\"text-align: right;\">\n",
       "      <th></th>\n",
       "      <th>text</th>\n",
       "      <th>label</th>\n",
       "    </tr>\n",
       "    <tr>\n",
       "      <th>index</th>\n",
       "      <th></th>\n",
       "      <th></th>\n",
       "    </tr>\n",
       "  </thead>\n",
       "  <tbody>\n",
       "    <tr>\n",
       "      <th>0</th>\n",
       "      <td>From fork-admin@xent.com  Mon Sep 30 17:56:37 ...</td>\n",
       "      <td>0</td>\n",
       "    </tr>\n",
       "    <tr>\n",
       "      <th>1</th>\n",
       "      <td>From rssfeeds@jmason.org  Tue Oct  1 10:37:07 ...</td>\n",
       "      <td>0</td>\n",
       "    </tr>\n",
       "    <tr>\n",
       "      <th>2</th>\n",
       "      <td>From rpm-list-admin@freshrpms.net  Tue Oct  8 ...</td>\n",
       "      <td>0</td>\n",
       "    </tr>\n",
       "    <tr>\n",
       "      <th>3</th>\n",
       "      <td>From pudge@perl.org  Tue Oct  1 10:34:35 2002\\...</td>\n",
       "      <td>0</td>\n",
       "    </tr>\n",
       "    <tr>\n",
       "      <th>4</th>\n",
       "      <td>From fork-admin@xent.com  Tue Sep 10 11:07:41 ...</td>\n",
       "      <td>0</td>\n",
       "    </tr>\n",
       "    <tr>\n",
       "      <th>...</th>\n",
       "      <td>...</td>\n",
       "      <td>...</td>\n",
       "    </tr>\n",
       "    <tr>\n",
       "      <th>4694</th>\n",
       "      <td>From fork-admin@xent.com  Mon Jul 29 20:27:37 ...</td>\n",
       "      <td>1</td>\n",
       "    </tr>\n",
       "    <tr>\n",
       "      <th>4695</th>\n",
       "      <td>From honey9531@btamail.net.cn  Mon Jun 24 17:0...</td>\n",
       "      <td>1</td>\n",
       "    </tr>\n",
       "    <tr>\n",
       "      <th>4696</th>\n",
       "      <td>From gintare@netzero.net  Mon Jun 24 17:43:43 ...</td>\n",
       "      <td>1</td>\n",
       "    </tr>\n",
       "    <tr>\n",
       "      <th>4697</th>\n",
       "      <td>From kqpfs@switzerland.org  Mon Jun 24 17:07:0...</td>\n",
       "      <td>1</td>\n",
       "    </tr>\n",
       "    <tr>\n",
       "      <th>4698</th>\n",
       "      <td>From jennifer@attorneyconnectionsinc.com  Mon ...</td>\n",
       "      <td>1</td>\n",
       "    </tr>\n",
       "  </tbody>\n",
       "</table>\n",
       "<p>4699 rows × 2 columns</p>\n",
       "</div>"
      ],
      "text/plain": [
       "                                                    text  label\n",
       "index                                                          \n",
       "0      From fork-admin@xent.com  Mon Sep 30 17:56:37 ...      0\n",
       "1      From rssfeeds@jmason.org  Tue Oct  1 10:37:07 ...      0\n",
       "2      From rpm-list-admin@freshrpms.net  Tue Oct  8 ...      0\n",
       "3      From pudge@perl.org  Tue Oct  1 10:34:35 2002\\...      0\n",
       "4      From fork-admin@xent.com  Tue Sep 10 11:07:41 ...      0\n",
       "...                                                  ...    ...\n",
       "4694   From fork-admin@xent.com  Mon Jul 29 20:27:37 ...      1\n",
       "4695   From honey9531@btamail.net.cn  Mon Jun 24 17:0...      1\n",
       "4696   From gintare@netzero.net  Mon Jun 24 17:43:43 ...      1\n",
       "4697   From kqpfs@switzerland.org  Mon Jun 24 17:07:0...      1\n",
       "4698   From jennifer@attorneyconnectionsinc.com  Mon ...      1\n",
       "\n",
       "[4699 rows x 2 columns]"
      ]
     },
     "execution_count": 3,
     "metadata": {},
     "output_type": "execute_result"
    }
   ],
   "source": [
    "spam_assasin = import_data.create_df_spam_assasin('/home/makus/Documents/Semester_7_WIN2022/Bachelorerbeit/ba_code/datasets/spamassasin/')\n",
    "spam_assasin"
   ]
  },
  {
   "attachments": {},
   "cell_type": "markdown",
   "metadata": {},
   "source": [
    "# feature extraction + dimension reduction"
   ]
  },
  {
   "cell_type": "code",
   "execution_count": 4,
   "metadata": {},
   "outputs": [
    {
     "name": "stdout",
     "output_type": "stream",
     "text": [
      "It took 3.39139870100189 second(s) to finish TF-IDF feature extraction.\n",
      "It took 8.05070783800329 second(s) to finish dimension reduction with Sparse Random Projection.\n",
      "It took 27.61233230200014 second(s) to finish dimension reduction with IPCA.\n"
     ]
    },
    {
     "data": {
      "text/plain": [
       "(4699, 100)"
      ]
     },
     "execution_count": 4,
     "metadata": {},
     "output_type": "execute_result"
    }
   ],
   "source": [
    "y = spam_assasin['label']\n",
    "mails = spam_assasin['text']\n",
    "\n",
    "tfidf_mails = feature_extraction.tfidf_vectorize(mails)\n",
    "sparse_mails = dimension_reduction.sparse_random_projection(tfidf_mails)\n",
    "ipca_mails = dimension_reduction.ipca(sparse_mails, 100)\n",
    "X = ipca_mails\n",
    "del mails, tfidf_mails, sparse_mails, ipca_mails, spam_assasin\n",
    "\n",
    "X.shape"
   ]
  },
  {
   "cell_type": "code",
   "execution_count": 25,
   "metadata": {},
   "outputs": [
    {
     "data": {
      "image/png": "[encoded data removed]",
      "text/plain": [
       "<Figure size 432x288 with 1 Axes>"
      ]
     },
     "metadata": {
      "needs_background": "light"
     },
     "output_type": "display_data"
    }
   ],
   "source": [
    "xs = X[:,0]\n",
    "ys = X[:,1]\n",
    "zs = X[:,2]\n",
    "colors = y\n",
    "\n",
    "fig = plt.figure()\n",
    "ax = fig.add_subplot(projection='3d')\n",
    "ax.scatter(xs, ys, zs, c=colors, alpha = 0.5)\n",
    "ax.view_init(-120,100)\n",
    "plt.savefig('assasin_graph.pdf')\n",
    "plt.show()"
   ]
  },
  {
   "cell_type": "code",
   "execution_count": 29,
   "metadata": {},
   "outputs": [
    {
     "data": {
      "image/png": "[encoded data removed]",
      "text/plain": [
       "<Figure size 432x288 with 1 Axes>"
      ]
     },
     "metadata": {
      "needs_background": "light"
     },
     "output_type": "display_data"
    }
   ],
   "source": [
    "xs = X[:,0]\n",
    "ys = X[:,1]\n",
    "zs = X[:,2]\n",
    "colors = y\n",
    "\n",
    "fig = plt.figure()\n",
    "ax = fig.add_subplot(projection='3d')\n",
    "ax.scatter(xs, ys, zs, c=colors, alpha = 0.5)\n",
    "ax.view_init(0,100)\n",
    "plt.savefig('assasin_graph_two.pdf')\n",
    "plt.show()"
   ]
  },
  {
   "attachments": {},
   "cell_type": "markdown",
   "metadata": {},
   "source": [
    "# Reference SVM classification"
   ]
  },
  {
   "cell_type": "code",
   "execution_count": 6,
   "metadata": {},
   "outputs": [
    {
     "name": "stdout",
     "output_type": "stream",
     "text": [
      "SVM model fitted in 1.5125399530079449 second(s)\n",
      "SVM predicted the testset in 0.2009478349937126 second(s)\n"
     ]
    },
    {
     "data": {
      "text/html": [
       "<div>\n",
       "<style scoped>\n",
       "    .dataframe tbody tr th:only-of-type {\n",
       "        vertical-align: middle;\n",
       "    }\n",
       "\n",
       "    .dataframe tbody tr th {\n",
       "        vertical-align: top;\n",
       "    }\n",
       "\n",
       "    .dataframe thead th {\n",
       "        text-align: right;\n",
       "    }\n",
       "</style>\n",
       "<table border=\"1\" class=\"dataframe\">\n",
       "  <thead>\n",
       "    <tr style=\"text-align: right;\">\n",
       "      <th></th>\n",
       "      <th>0</th>\n",
       "      <th>1</th>\n",
       "      <th>accuracy</th>\n",
       "      <th>macro avg</th>\n",
       "      <th>weighted avg</th>\n",
       "    </tr>\n",
       "  </thead>\n",
       "  <tbody>\n",
       "    <tr>\n",
       "      <th>precision</th>\n",
       "      <td>0.974619</td>\n",
       "      <td>0.951289</td>\n",
       "      <td>0.965957</td>\n",
       "      <td>0.962954</td>\n",
       "      <td>0.966007</td>\n",
       "    </tr>\n",
       "    <tr>\n",
       "      <th>recall</th>\n",
       "      <td>0.971332</td>\n",
       "      <td>0.956772</td>\n",
       "      <td>0.965957</td>\n",
       "      <td>0.964052</td>\n",
       "      <td>0.965957</td>\n",
       "    </tr>\n",
       "    <tr>\n",
       "      <th>f1-score</th>\n",
       "      <td>0.972973</td>\n",
       "      <td>0.954023</td>\n",
       "      <td>0.965957</td>\n",
       "      <td>0.963498</td>\n",
       "      <td>0.965978</td>\n",
       "    </tr>\n",
       "    <tr>\n",
       "      <th>support</th>\n",
       "      <td>593.000000</td>\n",
       "      <td>347.000000</td>\n",
       "      <td>0.965957</td>\n",
       "      <td>940.000000</td>\n",
       "      <td>940.000000</td>\n",
       "    </tr>\n",
       "  </tbody>\n",
       "</table>\n",
       "</div>"
      ],
      "text/plain": [
       "                    0           1  accuracy   macro avg  weighted avg\n",
       "precision    0.974619    0.951289  0.965957    0.962954      0.966007\n",
       "recall       0.971332    0.956772  0.965957    0.964052      0.965957\n",
       "f1-score     0.972973    0.954023  0.965957    0.963498      0.965978\n",
       "support    593.000000  347.000000  0.965957  940.000000    940.000000"
      ]
     },
     "execution_count": 6,
     "metadata": {},
     "output_type": "execute_result"
    }
   ],
   "source": [
    "reference_report, X_test, y_test, y_pred = classification.svm(X,y,test_size, random_state)\n",
    "\n",
    "reference_report"
   ]
  },
  {
   "attachments": {},
   "cell_type": "markdown",
   "metadata": {},
   "source": [
    "this is our reference svm for the comparison"
   ]
  },
  {
   "cell_type": "code",
   "execution_count": 7,
   "metadata": {},
   "outputs": [
    {
     "name": "stdout",
     "output_type": "stream",
     "text": [
      "Got 32 classificaton mistakes\n"
     ]
    },
    {
     "data": {
      "image/png": "[encoded data removed]",
      "text/plain": [
       "<Figure size 216x162 with 1 Axes>"
      ]
     },
     "metadata": {
      "needs_background": "light"
     },
     "output_type": "display_data"
    }
   ],
   "source": [
    "x_wrong = X_test[y_test != y_pred]\n",
    "print(\"Got %d classificaton mistakes\" % len(x_wrong))\n",
    "\n",
    "fig, ax = plt.subplots(figsize=(3,2.25))\n",
    "ax.scatter(X_test[:,0], X_test[:,1], c=y_pred, marker=\"o\")\n",
    "ax.scatter(x_wrong[:,0], x_wrong[:,1], color='red', marker=\"x\")\n",
    "plt.show()"
   ]
  },
  {
   "attachments": {},
   "cell_type": "markdown",
   "metadata": {},
   "source": [
    "# K-Means + Elbow plot"
   ]
  },
  {
   "attachments": {},
   "cell_type": "markdown",
   "metadata": {},
   "source": [
    "Now we create our elbow graph. A cluster count above 25 has not much sense"
   ]
  },
  {
   "cell_type": "code",
   "execution_count": 8,
   "metadata": {},
   "outputs": [
    {
     "data": {
      "image/png": "[encoded data removed]",
      "text/plain": [
       "<Figure size 432x288 with 1 Axes>"
      ]
     },
     "metadata": {
      "needs_background": "light"
     },
     "output_type": "display_data"
    }
   ],
   "source": [
    "max_cluster = 25\n",
    "inertias = classification.elbow_inertias_list(X,max_cluster)\n",
    "\n",
    "plt.figure()\n",
    "plt.plot(range(1,max_cluster), inertias, marker='o')\n",
    "plt.title('Spam Assasin')\n",
    "plt.xlabel('Number of clusters')\n",
    "plt.ylabel('Inertia')\n",
    "plt.savefig('asassin_elbow_high_dim.pdf')\n",
    "plt.show() "
   ]
  },
  {
   "cell_type": "code",
   "execution_count": 9,
   "metadata": {},
   "outputs": [
    {
     "data": {
      "image/png": "[encoded data removed]",
      "text/plain": [
       "<Figure size 432x288 with 1 Axes>"
      ]
     },
     "metadata": {
      "needs_background": "light"
     },
     "output_type": "display_data"
    }
   ],
   "source": [
    "max_cluster = 25\n",
    "inertias = classification.elbow_inertias_list(X[:,:2],max_cluster)\n",
    "\n",
    "plt.figure()\n",
    "plt.plot(range(1,max_cluster), inertias, marker='o')\n",
    "plt.title('Spam Assasin')\n",
    "plt.xlabel('Number of clusters')\n",
    "plt.ylabel('Inertia')\n",
    "plt.savefig('asassin_elbow_two_dim.pdf')\n",
    "plt.show() "
   ]
  },
  {
   "attachments": {},
   "cell_type": "markdown",
   "metadata": {},
   "source": [
    "# SVM and K-Means merging hypothesis"
   ]
  },
  {
   "attachments": {},
   "cell_type": "markdown",
   "metadata": {},
   "source": [
    "Now we test our hypothesis, wether replacing the original labels with k-means generated labels can improve a svm classification"
   ]
  },
  {
   "cell_type": "code",
   "execution_count": 10,
   "metadata": {},
   "outputs": [
    {
     "name": "stdout",
     "output_type": "stream",
     "text": [
      "It took 16.307919040991692 second(s) to search the best k-means clustering for merging hypothesis\n",
      "It took 16.551787891992717 second(s) to complete the svm classification combined with k-means - merging hypothesis\n"
     ]
    },
    {
     "data": {
      "text/html": [
       "<div>\n",
       "<style scoped>\n",
       "    .dataframe tbody tr th:only-of-type {\n",
       "        vertical-align: middle;\n",
       "    }\n",
       "\n",
       "    .dataframe tbody tr th {\n",
       "        vertical-align: top;\n",
       "    }\n",
       "\n",
       "    .dataframe thead th {\n",
       "        text-align: right;\n",
       "    }\n",
       "</style>\n",
       "<table border=\"1\" class=\"dataframe\">\n",
       "  <thead>\n",
       "    <tr style=\"text-align: right;\">\n",
       "      <th></th>\n",
       "      <th>0</th>\n",
       "      <th>1</th>\n",
       "      <th>accuracy</th>\n",
       "      <th>macro avg</th>\n",
       "      <th>weighted avg</th>\n",
       "    </tr>\n",
       "  </thead>\n",
       "  <tbody>\n",
       "    <tr>\n",
       "      <th>precision</th>\n",
       "      <td>0.745358</td>\n",
       "      <td>0.833333</td>\n",
       "      <td>0.762766</td>\n",
       "      <td>0.789346</td>\n",
       "      <td>0.777834</td>\n",
       "    </tr>\n",
       "    <tr>\n",
       "      <th>recall</th>\n",
       "      <td>0.947723</td>\n",
       "      <td>0.446686</td>\n",
       "      <td>0.762766</td>\n",
       "      <td>0.697205</td>\n",
       "      <td>0.762766</td>\n",
       "    </tr>\n",
       "    <tr>\n",
       "      <th>f1-score</th>\n",
       "      <td>0.834447</td>\n",
       "      <td>0.581614</td>\n",
       "      <td>0.762766</td>\n",
       "      <td>0.708030</td>\n",
       "      <td>0.741114</td>\n",
       "    </tr>\n",
       "    <tr>\n",
       "      <th>support</th>\n",
       "      <td>593.000000</td>\n",
       "      <td>347.000000</td>\n",
       "      <td>0.762766</td>\n",
       "      <td>940.000000</td>\n",
       "      <td>940.000000</td>\n",
       "    </tr>\n",
       "  </tbody>\n",
       "</table>\n",
       "</div>"
      ],
      "text/plain": [
       "                    0           1  accuracy   macro avg  weighted avg\n",
       "precision    0.745358    0.833333  0.762766    0.789346      0.777834\n",
       "recall       0.947723    0.446686  0.762766    0.697205      0.762766\n",
       "f1-score     0.834447    0.581614  0.762766    0.708030      0.741114\n",
       "support    593.000000  347.000000  0.762766  940.000000    940.000000"
      ]
     },
     "execution_count": 10,
     "metadata": {},
     "output_type": "execute_result"
    }
   ],
   "source": [
    "report, X_test, y_test, y_pred = classification.svm_merging_hypothesis(2,X,y)\n",
    "report"
   ]
  },
  {
   "attachments": {},
   "cell_type": "markdown",
   "metadata": {},
   "source": [
    "k-means with the original cluster count does not improve the classification"
   ]
  },
  {
   "cell_type": "code",
   "execution_count": 11,
   "metadata": {},
   "outputs": [
    {
     "name": "stdout",
     "output_type": "stream",
     "text": [
      "Got 223 classificaton mistakes\n"
     ]
    },
    {
     "data": {
      "image/png": "[encoded data removed]",
      "text/plain": [
       "<Figure size 432x288 with 1 Axes>"
      ]
     },
     "metadata": {
      "needs_background": "light"
     },
     "output_type": "display_data"
    }
   ],
   "source": [
    "x_wrong = X_test[y_test != y_pred]\n",
    "print(\"Got %d classificaton mistakes\" % len(x_wrong))\n",
    "\n",
    "fig, ax = plt.subplots()\n",
    "ax.scatter(X_test[:,0], X_test[:,1], c=y_pred, marker=\"o\")\n",
    "ax.scatter(x_wrong[:,0], x_wrong[:,1], color='red', marker=\"x\")\n",
    "plt.show()"
   ]
  },
  {
   "attachments": {},
   "cell_type": "markdown",
   "metadata": {},
   "source": [
    "Now we estimate a good cluster count based on the elbow-graph"
   ]
  },
  {
   "cell_type": "code",
   "execution_count": 12,
   "metadata": {},
   "outputs": [
    {
     "name": "stdout",
     "output_type": "stream",
     "text": [
      "It took 20.277276724998956 second(s) to search the best k-means clustering for merging hypothesis\n",
      "It took 20.492310018002172 second(s) to complete the svm classification combined with k-means - merging hypothesis\n"
     ]
    },
    {
     "data": {
      "text/html": [
       "<div>\n",
       "<style scoped>\n",
       "    .dataframe tbody tr th:only-of-type {\n",
       "        vertical-align: middle;\n",
       "    }\n",
       "\n",
       "    .dataframe tbody tr th {\n",
       "        vertical-align: top;\n",
       "    }\n",
       "\n",
       "    .dataframe thead th {\n",
       "        text-align: right;\n",
       "    }\n",
       "</style>\n",
       "<table border=\"1\" class=\"dataframe\">\n",
       "  <thead>\n",
       "    <tr style=\"text-align: right;\">\n",
       "      <th></th>\n",
       "      <th>0</th>\n",
       "      <th>1</th>\n",
       "      <th>accuracy</th>\n",
       "      <th>macro avg</th>\n",
       "      <th>weighted avg</th>\n",
       "    </tr>\n",
       "  </thead>\n",
       "  <tbody>\n",
       "    <tr>\n",
       "      <th>precision</th>\n",
       "      <td>0.744371</td>\n",
       "      <td>0.832432</td>\n",
       "      <td>0.761702</td>\n",
       "      <td>0.788402</td>\n",
       "      <td>0.776879</td>\n",
       "    </tr>\n",
       "    <tr>\n",
       "      <th>recall</th>\n",
       "      <td>0.947723</td>\n",
       "      <td>0.443804</td>\n",
       "      <td>0.761702</td>\n",
       "      <td>0.695764</td>\n",
       "      <td>0.761702</td>\n",
       "    </tr>\n",
       "    <tr>\n",
       "      <th>f1-score</th>\n",
       "      <td>0.833828</td>\n",
       "      <td>0.578947</td>\n",
       "      <td>0.761702</td>\n",
       "      <td>0.706388</td>\n",
       "      <td>0.739739</td>\n",
       "    </tr>\n",
       "    <tr>\n",
       "      <th>support</th>\n",
       "      <td>593.000000</td>\n",
       "      <td>347.000000</td>\n",
       "      <td>0.761702</td>\n",
       "      <td>940.000000</td>\n",
       "      <td>940.000000</td>\n",
       "    </tr>\n",
       "  </tbody>\n",
       "</table>\n",
       "</div>"
      ],
      "text/plain": [
       "                    0           1  accuracy   macro avg  weighted avg\n",
       "precision    0.744371    0.832432  0.761702    0.788402      0.776879\n",
       "recall       0.947723    0.443804  0.761702    0.695764      0.761702\n",
       "f1-score     0.833828    0.578947  0.761702    0.706388      0.739739\n",
       "support    593.000000  347.000000  0.761702  940.000000    940.000000"
      ]
     },
     "execution_count": 12,
     "metadata": {},
     "output_type": "execute_result"
    }
   ],
   "source": [
    "report, X_test, y_test, y_pred = classification.svm_merging_hypothesis(4,X,y)\n",
    "report"
   ]
  },
  {
   "cell_type": "code",
   "execution_count": 13,
   "metadata": {},
   "outputs": [
    {
     "name": "stdout",
     "output_type": "stream",
     "text": [
      "Got 224 classificaton mistakes\n"
     ]
    },
    {
     "data": {
      "image/png": "[encoded data removed]",
      "text/plain": [
       "<Figure size 432x288 with 1 Axes>"
      ]
     },
     "metadata": {
      "needs_background": "light"
     },
     "output_type": "display_data"
    }
   ],
   "source": [
    "x_wrong = X_test[y_test != y_pred]\n",
    "print(\"Got %d classificaton mistakes\" % len(x_wrong))\n",
    "\n",
    "fig, ax = plt.subplots()\n",
    "ax.scatter(X_test[:,0], X_test[:,1], c=y_pred, marker=\"o\")\n",
    "ax.scatter(x_wrong[:,0], x_wrong[:,1], color='red', marker=\"x\")\n",
    "plt.show()"
   ]
  },
  {
   "attachments": {},
   "cell_type": "markdown",
   "metadata": {},
   "source": [
    "For increasing the number of clusters, the classification is getting worse.\n",
    "The classification results are worse than the normal SVM\n",
    " \n",
    "-> Merging is not a good approach"
   ]
  },
  {
   "attachments": {},
   "cell_type": "markdown",
   "metadata": {},
   "source": [
    "# Adding K-means clustering as new feature"
   ]
  },
  {
   "attachments": {},
   "cell_type": "markdown",
   "metadata": {},
   "source": [
    "we add now the k-means clustering result as a new column in our dataset and then classify the data with a svm. -> Test this approach with cluster count between 2 and 25"
   ]
  },
  {
   "cell_type": "code",
   "execution_count": 16,
   "metadata": {},
   "outputs": [
    {
     "data": {
      "text/html": [
       "<div>\n",
       "<style scoped>\n",
       "    .dataframe tbody tr th:only-of-type {\n",
       "        vertical-align: middle;\n",
       "    }\n",
       "\n",
       "    .dataframe tbody tr th {\n",
       "        vertical-align: top;\n",
       "    }\n",
       "\n",
       "    .dataframe thead th {\n",
       "        text-align: right;\n",
       "    }\n",
       "</style>\n",
       "<table border=\"1\" class=\"dataframe\">\n",
       "  <thead>\n",
       "    <tr style=\"text-align: right;\">\n",
       "      <th></th>\n",
       "      <th>0</th>\n",
       "      <th>1</th>\n",
       "      <th>accuracy</th>\n",
       "      <th>macro avg</th>\n",
       "      <th>weighted avg</th>\n",
       "    </tr>\n",
       "  </thead>\n",
       "  <tbody>\n",
       "    <tr>\n",
       "      <th>precision</th>\n",
       "      <td>0.974619</td>\n",
       "      <td>0.951289</td>\n",
       "      <td>0.965957</td>\n",
       "      <td>0.962954</td>\n",
       "      <td>0.966007</td>\n",
       "    </tr>\n",
       "    <tr>\n",
       "      <th>recall</th>\n",
       "      <td>0.971332</td>\n",
       "      <td>0.956772</td>\n",
       "      <td>0.965957</td>\n",
       "      <td>0.964052</td>\n",
       "      <td>0.965957</td>\n",
       "    </tr>\n",
       "    <tr>\n",
       "      <th>f1-score</th>\n",
       "      <td>0.972973</td>\n",
       "      <td>0.954023</td>\n",
       "      <td>0.965957</td>\n",
       "      <td>0.963498</td>\n",
       "      <td>0.965978</td>\n",
       "    </tr>\n",
       "    <tr>\n",
       "      <th>support</th>\n",
       "      <td>593.000000</td>\n",
       "      <td>347.000000</td>\n",
       "      <td>0.965957</td>\n",
       "      <td>940.000000</td>\n",
       "      <td>940.000000</td>\n",
       "    </tr>\n",
       "  </tbody>\n",
       "</table>\n",
       "</div>"
      ],
      "text/plain": [
       "                    0           1  accuracy   macro avg  weighted avg\n",
       "precision    0.974619    0.951289  0.965957    0.962954      0.966007\n",
       "recall       0.971332    0.956772  0.965957    0.964052      0.965957\n",
       "f1-score     0.972973    0.954023  0.965957    0.963498      0.965978\n",
       "support    593.000000  347.000000  0.965957  940.000000    940.000000"
      ]
     },
     "execution_count": 16,
     "metadata": {},
     "output_type": "execute_result"
    }
   ],
   "source": [
    "reference_report"
   ]
  },
  {
   "cell_type": "code",
   "execution_count": 17,
   "metadata": {},
   "outputs": [
    {
     "data": {
      "text/html": [
       "<div>\n",
       "<style scoped>\n",
       "    .dataframe tbody tr th:only-of-type {\n",
       "        vertical-align: middle;\n",
       "    }\n",
       "\n",
       "    .dataframe tbody tr th {\n",
       "        vertical-align: top;\n",
       "    }\n",
       "\n",
       "    .dataframe thead th {\n",
       "        text-align: right;\n",
       "    }\n",
       "</style>\n",
       "<table border=\"1\" class=\"dataframe\">\n",
       "  <thead>\n",
       "    <tr style=\"text-align: right;\">\n",
       "      <th></th>\n",
       "      <th>Number_of_clusters</th>\n",
       "      <th>Accuracy</th>\n",
       "      <th>F_one_Score</th>\n",
       "      <th>Time</th>\n",
       "    </tr>\n",
       "  </thead>\n",
       "  <tbody>\n",
       "    <tr>\n",
       "      <th>0</th>\n",
       "      <td>2.0</td>\n",
       "      <td>0.963830</td>\n",
       "      <td>0.971332</td>\n",
       "      <td>2.259132</td>\n",
       "    </tr>\n",
       "    <tr>\n",
       "      <th>1</th>\n",
       "      <td>3.0</td>\n",
       "      <td>0.962766</td>\n",
       "      <td>0.970514</td>\n",
       "      <td>2.511205</td>\n",
       "    </tr>\n",
       "    <tr>\n",
       "      <th>2</th>\n",
       "      <td>4.0</td>\n",
       "      <td>0.831915</td>\n",
       "      <td>0.860177</td>\n",
       "      <td>2.782098</td>\n",
       "    </tr>\n",
       "    <tr>\n",
       "      <th>3</th>\n",
       "      <td>5.0</td>\n",
       "      <td>0.732979</td>\n",
       "      <td>0.769089</td>\n",
       "      <td>3.122099</td>\n",
       "    </tr>\n",
       "    <tr>\n",
       "      <th>4</th>\n",
       "      <td>6.0</td>\n",
       "      <td>0.536170</td>\n",
       "      <td>0.594796</td>\n",
       "      <td>2.996047</td>\n",
       "    </tr>\n",
       "    <tr>\n",
       "      <th>5</th>\n",
       "      <td>7.0</td>\n",
       "      <td>0.611702</td>\n",
       "      <td>0.683435</td>\n",
       "      <td>3.457913</td>\n",
       "    </tr>\n",
       "    <tr>\n",
       "      <th>6</th>\n",
       "      <td>8.0</td>\n",
       "      <td>0.619149</td>\n",
       "      <td>0.687609</td>\n",
       "      <td>3.399370</td>\n",
       "    </tr>\n",
       "    <tr>\n",
       "      <th>7</th>\n",
       "      <td>9.0</td>\n",
       "      <td>0.460638</td>\n",
       "      <td>0.550133</td>\n",
       "      <td>3.997307</td>\n",
       "    </tr>\n",
       "    <tr>\n",
       "      <th>8</th>\n",
       "      <td>10.0</td>\n",
       "      <td>0.563830</td>\n",
       "      <td>0.663934</td>\n",
       "      <td>4.107810</td>\n",
       "    </tr>\n",
       "    <tr>\n",
       "      <th>9</th>\n",
       "      <td>11.0</td>\n",
       "      <td>0.508511</td>\n",
       "      <td>0.603774</td>\n",
       "      <td>4.314949</td>\n",
       "    </tr>\n",
       "    <tr>\n",
       "      <th>10</th>\n",
       "      <td>12.0</td>\n",
       "      <td>0.477660</td>\n",
       "      <td>0.611858</td>\n",
       "      <td>4.727882</td>\n",
       "    </tr>\n",
       "    <tr>\n",
       "      <th>11</th>\n",
       "      <td>13.0</td>\n",
       "      <td>0.475532</td>\n",
       "      <td>0.610892</td>\n",
       "      <td>5.006797</td>\n",
       "    </tr>\n",
       "    <tr>\n",
       "      <th>12</th>\n",
       "      <td>14.0</td>\n",
       "      <td>0.600000</td>\n",
       "      <td>0.670753</td>\n",
       "      <td>4.616455</td>\n",
       "    </tr>\n",
       "    <tr>\n",
       "      <th>13</th>\n",
       "      <td>15.0</td>\n",
       "      <td>0.438298</td>\n",
       "      <td>0.505618</td>\n",
       "      <td>4.908925</td>\n",
       "    </tr>\n",
       "    <tr>\n",
       "      <th>14</th>\n",
       "      <td>16.0</td>\n",
       "      <td>0.436170</td>\n",
       "      <td>0.504673</td>\n",
       "      <td>5.297171</td>\n",
       "    </tr>\n",
       "    <tr>\n",
       "      <th>15</th>\n",
       "      <td>17.0</td>\n",
       "      <td>0.436170</td>\n",
       "      <td>0.504673</td>\n",
       "      <td>5.624235</td>\n",
       "    </tr>\n",
       "    <tr>\n",
       "      <th>16</th>\n",
       "      <td>18.0</td>\n",
       "      <td>0.405319</td>\n",
       "      <td>0.495032</td>\n",
       "      <td>5.672573</td>\n",
       "    </tr>\n",
       "    <tr>\n",
       "      <th>17</th>\n",
       "      <td>19.0</td>\n",
       "      <td>0.435106</td>\n",
       "      <td>0.532159</td>\n",
       "      <td>5.374167</td>\n",
       "    </tr>\n",
       "    <tr>\n",
       "      <th>18</th>\n",
       "      <td>20.0</td>\n",
       "      <td>0.589362</td>\n",
       "      <td>0.656584</td>\n",
       "      <td>6.014986</td>\n",
       "    </tr>\n",
       "    <tr>\n",
       "      <th>19</th>\n",
       "      <td>21.0</td>\n",
       "      <td>0.606383</td>\n",
       "      <td>0.671986</td>\n",
       "      <td>5.835325</td>\n",
       "    </tr>\n",
       "    <tr>\n",
       "      <th>20</th>\n",
       "      <td>22.0</td>\n",
       "      <td>0.472340</td>\n",
       "      <td>0.539033</td>\n",
       "      <td>5.928871</td>\n",
       "    </tr>\n",
       "    <tr>\n",
       "      <th>21</th>\n",
       "      <td>23.0</td>\n",
       "      <td>0.472340</td>\n",
       "      <td>0.539033</td>\n",
       "      <td>7.963937</td>\n",
       "    </tr>\n",
       "    <tr>\n",
       "      <th>22</th>\n",
       "      <td>24.0</td>\n",
       "      <td>0.471277</td>\n",
       "      <td>0.540241</td>\n",
       "      <td>7.790422</td>\n",
       "    </tr>\n",
       "    <tr>\n",
       "      <th>23</th>\n",
       "      <td>25.0</td>\n",
       "      <td>0.472340</td>\n",
       "      <td>0.539033</td>\n",
       "      <td>6.273815</td>\n",
       "    </tr>\n",
       "  </tbody>\n",
       "</table>\n",
       "</div>"
      ],
      "text/plain": [
       "    Number_of_clusters  Accuracy  F_one_Score      Time\n",
       "0                  2.0  0.963830     0.971332  2.259132\n",
       "1                  3.0  0.962766     0.970514  2.511205\n",
       "2                  4.0  0.831915     0.860177  2.782098\n",
       "3                  5.0  0.732979     0.769089  3.122099\n",
       "4                  6.0  0.536170     0.594796  2.996047\n",
       "5                  7.0  0.611702     0.683435  3.457913\n",
       "6                  8.0  0.619149     0.687609  3.399370\n",
       "7                  9.0  0.460638     0.550133  3.997307\n",
       "8                 10.0  0.563830     0.663934  4.107810\n",
       "9                 11.0  0.508511     0.603774  4.314949\n",
       "10                12.0  0.477660     0.611858  4.727882\n",
       "11                13.0  0.475532     0.610892  5.006797\n",
       "12                14.0  0.600000     0.670753  4.616455\n",
       "13                15.0  0.438298     0.505618  4.908925\n",
       "14                16.0  0.436170     0.504673  5.297171\n",
       "15                17.0  0.436170     0.504673  5.624235\n",
       "16                18.0  0.405319     0.495032  5.672573\n",
       "17                19.0  0.435106     0.532159  5.374167\n",
       "18                20.0  0.589362     0.656584  6.014986\n",
       "19                21.0  0.606383     0.671986  5.835325\n",
       "20                22.0  0.472340     0.539033  5.928871\n",
       "21                23.0  0.472340     0.539033  7.963937\n",
       "22                24.0  0.471277     0.540241  7.790422\n",
       "23                25.0  0.472340     0.539033  6.273815"
      ]
     },
     "execution_count": 17,
     "metadata": {},
     "output_type": "execute_result"
    }
   ],
   "source": [
    "report = classification.k_means_cluster_search(X,y,25)\n",
    "report"
   ]
  },
  {
   "attachments": {},
   "cell_type": "markdown",
   "metadata": {},
   "source": [
    "3 means improves the performance of the classification"
   ]
  },
  {
   "attachments": {},
   "cell_type": "markdown",
   "metadata": {},
   "source": [
    "# Combine both approaches"
   ]
  },
  {
   "attachments": {},
   "cell_type": "markdown",
   "metadata": {},
   "source": [
    "Add the merging approach as a new feature vector to the dataset and then classify with svm.\n"
   ]
  },
  {
   "cell_type": "code",
   "execution_count": 18,
   "metadata": {},
   "outputs": [
    {
     "name": "stdout",
     "output_type": "stream",
     "text": [
      "It took 21.759014586001285 second(s) to search the best k-means clustering for merging hypothesis\n"
     ]
    },
    {
     "data": {
      "text/html": [
       "<div>\n",
       "<style scoped>\n",
       "    .dataframe tbody tr th:only-of-type {\n",
       "        vertical-align: middle;\n",
       "    }\n",
       "\n",
       "    .dataframe tbody tr th {\n",
       "        vertical-align: top;\n",
       "    }\n",
       "\n",
       "    .dataframe thead th {\n",
       "        text-align: right;\n",
       "    }\n",
       "</style>\n",
       "<table border=\"1\" class=\"dataframe\">\n",
       "  <thead>\n",
       "    <tr style=\"text-align: right;\">\n",
       "      <th></th>\n",
       "      <th>Accuracy</th>\n",
       "      <th>F_one_Score</th>\n",
       "      <th>Time</th>\n",
       "    </tr>\n",
       "  </thead>\n",
       "  <tbody>\n",
       "    <tr>\n",
       "      <th>0</th>\n",
       "      <td>0.96383</td>\n",
       "      <td>0.971332</td>\n",
       "      <td>22.697914</td>\n",
       "    </tr>\n",
       "  </tbody>\n",
       "</table>\n",
       "</div>"
      ],
      "text/plain": [
       "   Accuracy  F_one_Score       Time\n",
       "0   0.96383     0.971332  22.697914"
      ]
     },
     "execution_count": 18,
     "metadata": {},
     "output_type": "execute_result"
    }
   ],
   "source": [
    "report = classification.k_means_cluster_search_merging_hypothesis(X,y,4)\n",
    "report"
   ]
  },
  {
   "attachments": {},
   "cell_type": "markdown",
   "metadata": {},
   "source": [
    "It is very computation heavy even on a small dataset. So even a slightly improve is not worth.\n"
   ]
  }
 ],
 "metadata": {
  "kernelspec": {
   "display_name": "Python 3",
   "language": "python",
   "name": "python3"
  },
  "language_info": {
   "codemirror_mode": {
    "name": "ipython",
    "version": 3
   },
   "file_extension": ".py",
   "mimetype": "text/x-python",
   "name": "python",
   "nbconvert_exporter": "python",
   "pygments_lexer": "ipython3",
   "version": "3.10.6"
  },
  "orig_nbformat": 4,
  "vscode": {
   "interpreter": {
    "hash": "e7370f93d1d0cde622a1f8e1c04877d8463912d04d973331ad4851f04de6915a"
   }
  }
 },
 "nbformat": 4,
 "nbformat_minor": 2
}
