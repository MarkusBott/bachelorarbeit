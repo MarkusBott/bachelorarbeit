{
 "cells": [
  {
   "attachments": {},
   "cell_type": "markdown",
   "metadata": {},
   "source": [
    "# Spelling correction test"
   ]
  },
  {
   "cell_type": "code",
   "execution_count": 1,
   "metadata": {},
   "outputs": [
    {
     "name": "stderr",
     "output_type": "stream",
     "text": [
      "[nltk_data] Downloading package wordnet to /home/makus/nltk_data...\n",
      "[nltk_data]   Package wordnet is already up-to-date!\n",
      "[nltk_data] Downloading package stopwords to /home/makus/nltk_data...\n",
      "[nltk_data]   Package stopwords is already up-to-date!\n"
     ]
    }
   ],
   "source": [
    "import preprocessing"
   ]
  },
  {
   "cell_type": "code",
   "execution_count": 2,
   "metadata": {},
   "outputs": [
    {
     "name": "stdout",
     "output_type": "stream",
     "text": [
      "It took 0.40164939800160937 second(s) to finish.\n",
      "[['something', 'is', 'happening', 'here'], ['Hell', 'my', 'nam', 'is', 'Markus']]\n"
     ]
    }
   ],
   "source": [
    "string_list = [\"something is hapenning here\", \"Hell my nam is Markus\"]\n",
    "\n",
    "result1 = preprocessing.spelling_correction(string_list)\n",
    "print(result1)"
   ]
  },
  {
   "cell_type": "code",
   "execution_count": 3,
   "metadata": {},
   "outputs": [
    {
     "name": "stdout",
     "output_type": "stream",
     "text": [
      "It took 1.6524906019985792 second(s) to finish.\n",
      "[['something', '______', 'vbnwovnvcijnvw', 'here'], ['Hell', 'my', 'sevbebqtbq3bqbvvvwf2', 'is', 'Markus']]\n"
     ]
    }
   ],
   "source": [
    "string_list = [\"something ______  vbnwovnvcijnvw here\", \"Hell my sevbebqtbq3bqbvvvwf2 is Markus\"]\n",
    "\n",
    "result2 = preprocessing.spelling_correction(string_list)\n",
    "print(result2)"
   ]
  },
  {
   "cell_type": "code",
   "execution_count": 4,
   "metadata": {},
   "outputs": [
    {
     "name": "stdout",
     "output_type": "stream",
     "text": [
      "It took 0.25604604100226425 second(s) to finish.\n",
      "[['something', 'is', 'happening', 'here'], ['Hell', 'my', 'nam', 'is', 'Marks']]\n"
     ]
    }
   ],
   "source": [
    "string_list = [\"something is hapenning here\", \"Hell my nam is Markus\"]\n",
    "\n",
    "result1 = preprocessing.spelling_autocorrection(string_list)\n",
    "print(result1)"
   ]
  },
  {
   "cell_type": "code",
   "execution_count": 5,
   "metadata": {},
   "outputs": [
    {
     "name": "stdout",
     "output_type": "stream",
     "text": [
      "It took 0.6455052849996719 second(s) to finish.\n",
      "[['something', '______', 'vbnwovnvcijnvw', 'here'], ['Hell', 'my', 'sevbebqtbq3bqbvvvwf2', 'is', 'Marks']]\n"
     ]
    }
   ],
   "source": [
    "string_list = [\"somethng ______  vbnwovnvcijnvw here\", \"Hell my sevbebqtbq3bqbvvvwf2 is Markus\"]\n",
    "\n",
    "result2 = preprocessing.spelling_autocorrection(string_list)\n",
    "print(result2)"
   ]
  }
 ],
 "metadata": {
  "kernelspec": {
   "display_name": "Python 3",
   "language": "python",
   "name": "python3"
  },
  "language_info": {
   "codemirror_mode": {
    "name": "ipython",
    "version": 3
   },
   "file_extension": ".py",
   "mimetype": "text/x-python",
   "name": "python",
   "nbconvert_exporter": "python",
   "pygments_lexer": "ipython3",
   "version": "3.10.6"
  },
  "orig_nbformat": 4,
  "vscode": {
   "interpreter": {
    "hash": "e7370f93d1d0cde622a1f8e1c04877d8463912d04d973331ad4851f04de6915a"
   }
  }
 },
 "nbformat": 4,
 "nbformat_minor": 2
}
