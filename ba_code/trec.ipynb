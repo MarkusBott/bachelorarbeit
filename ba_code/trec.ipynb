{
 "cells": [
  {
   "cell_type": "code",
   "execution_count": 1,
   "metadata": {},
   "outputs": [
    {
     "name": "stderr",
     "output_type": "stream",
     "text": [
      "[nltk_data] Downloading package wordnet to /home/makus/nltk_data...\n",
      "[nltk_data]   Package wordnet is already up-to-date!\n",
      "[nltk_data] Downloading package stopwords to /home/makus/nltk_data...\n",
      "[nltk_data]   Package stopwords is already up-to-date!\n"
     ]
    }
   ],
   "source": [
    "import pandas as pd\n",
    "import numpy as np\n",
    "import matplotlib.pyplot as plt\n",
    "import import_data\n",
    "import preprocessing\n",
    "import feature_extraction\n",
    "import dimension_reduction\n",
    "import classification\n",
    "import matplotlib \n",
    "import os\n",
    "\n",
    "\n",
    "test_size = 0.2\n",
    "random_state = 104"
   ]
  },
  {
   "cell_type": "code",
   "execution_count": 2,
   "metadata": {},
   "outputs": [],
   "source": [
    "os.chdir('/home/makus/Documents/Semester_7_WIN2022/Bachelorarbeit/bachelor-thesis/img/')"
   ]
  },
  {
   "attachments": {},
   "cell_type": "markdown",
   "metadata": {},
   "source": [
    "# load data"
   ]
  },
  {
   "cell_type": "code",
   "execution_count": 3,
   "metadata": {},
   "outputs": [
    {
     "data": {
      "text/html": [
       "<div>\n",
       "<style scoped>\n",
       "    .dataframe tbody tr th:only-of-type {\n",
       "        vertical-align: middle;\n",
       "    }\n",
       "\n",
       "    .dataframe tbody tr th {\n",
       "        vertical-align: top;\n",
       "    }\n",
       "\n",
       "    .dataframe thead th {\n",
       "        text-align: right;\n",
       "    }\n",
       "</style>\n",
       "<table border=\"1\" class=\"dataframe\">\n",
       "  <thead>\n",
       "    <tr style=\"text-align: right;\">\n",
       "      <th></th>\n",
       "      <th>text</th>\n",
       "      <th>label</th>\n",
       "    </tr>\n",
       "  </thead>\n",
       "  <tbody>\n",
       "    <tr>\n",
       "      <th>0</th>\n",
       "      <td>Generic Cialis, branded quality@ the00@speedy....</td>\n",
       "      <td>1</td>\n",
       "    </tr>\n",
       "    <tr>\n",
       "      <th>1</th>\n",
       "      <td>Typo in /debian/READMEdebian-mirrors@lists.deb...</td>\n",
       "      <td>0</td>\n",
       "    </tr>\n",
       "    <tr>\n",
       "      <th>2</th>\n",
       "      <td>authentic viagra&lt;the00@plg.uwaterloo.ca&gt;\"Sheil...</td>\n",
       "      <td>1</td>\n",
       "    </tr>\n",
       "    <tr>\n",
       "      <th>3</th>\n",
       "      <td>Nice talking with yaopt4@speedy.uwaterloo.ca\"S...</td>\n",
       "      <td>1</td>\n",
       "    </tr>\n",
       "    <tr>\n",
       "      <th>4</th>\n",
       "      <td>or trembling; stomach cramps; trouble in sleep...</td>\n",
       "      <td>1</td>\n",
       "    </tr>\n",
       "    <tr>\n",
       "      <th>...</th>\n",
       "      <td>...</td>\n",
       "      <td>...</td>\n",
       "    </tr>\n",
       "    <tr>\n",
       "      <th>75414</th>\n",
       "      <td>the reply for your request for a job place [le...</td>\n",
       "      <td>1</td>\n",
       "    </tr>\n",
       "    <tr>\n",
       "      <th>75415</th>\n",
       "      <td>the reply for your request for a job place [le...</td>\n",
       "      <td>1</td>\n",
       "    </tr>\n",
       "    <tr>\n",
       "      <th>75416</th>\n",
       "      <td>Re: [R] Me again, about the horrible documenta...</td>\n",
       "      <td>0</td>\n",
       "    </tr>\n",
       "    <tr>\n",
       "      <th>75417</th>\n",
       "      <td>Re: [R] RODBC problem&lt;r-help@stat.math.ethz.ch...</td>\n",
       "      <td>0</td>\n",
       "    </tr>\n",
       "    <tr>\n",
       "      <th>75418</th>\n",
       "      <td>I wanted the desk at his own laws: of the.  Bu...</td>\n",
       "      <td>1</td>\n",
       "    </tr>\n",
       "  </tbody>\n",
       "</table>\n",
       "<p>75261 rows × 2 columns</p>\n",
       "</div>"
      ],
      "text/plain": [
       "                                                    text  label\n",
       "0      Generic Cialis, branded quality@ the00@speedy....      1\n",
       "1      Typo in /debian/READMEdebian-mirrors@lists.deb...      0\n",
       "2      authentic viagra<the00@plg.uwaterloo.ca>\"Sheil...      1\n",
       "3      Nice talking with yaopt4@speedy.uwaterloo.ca\"S...      1\n",
       "4      or trembling; stomach cramps; trouble in sleep...      1\n",
       "...                                                  ...    ...\n",
       "75414  the reply for your request for a job place [le...      1\n",
       "75415  the reply for your request for a job place [le...      1\n",
       "75416  Re: [R] Me again, about the horrible documenta...      0\n",
       "75417  Re: [R] RODBC problem<r-help@stat.math.ethz.ch...      0\n",
       "75418  I wanted the desk at his own laws: of the.  Bu...      1\n",
       "\n",
       "[75261 rows x 2 columns]"
      ]
     },
     "execution_count": 3,
     "metadata": {},
     "output_type": "execute_result"
    }
   ],
   "source": [
    "trec = import_data.create_trec_from_csv(\"/home/makus/Documents/Semester_7_WIN2022/Bachelorarbeit/ba_code/datasets/TREC_2007_processed_data.csv\")\n",
    "trec"
   ]
  },
  {
   "attachments": {},
   "cell_type": "markdown",
   "metadata": {},
   "source": [
    "# feature extraction + dimension reduction"
   ]
  },
  {
   "cell_type": "code",
   "execution_count": 4,
   "metadata": {},
   "outputs": [
    {
     "name": "stdout",
     "output_type": "stream",
     "text": [
      "It took 53.90974215800088 second(s) to finish TF-IDF feature extraction.\n",
      "It took 44.66385461999744 second(s) to finish dimension reduction with Sparse Random Projection.\n",
      "It took 623.7004148210035 second(s) to finish dimension reduction with IPCA.\n"
     ]
    },
    {
     "data": {
      "text/plain": [
       "(75261, 100)"
      ]
     },
     "execution_count": 4,
     "metadata": {},
     "output_type": "execute_result"
    }
   ],
   "source": [
    "y = trec['label']\n",
    "mails = trec['text']\n",
    "\n",
    "tfidf_mails = feature_extraction.tfidf_vectorize(mails)\n",
    "sparse_mails = dimension_reduction.sparse_random_projection(tfidf_mails)\n",
    "ipca_mails = dimension_reduction.ipca(sparse_mails, 100)\n",
    "X = ipca_mails\n",
    "del mails, tfidf_mails, sparse_mails, ipca_mails, trec\n",
    "\n",
    "X.shape\n"
   ]
  },
  {
   "cell_type": "code",
   "execution_count": 5,
   "metadata": {},
   "outputs": [
    {
     "data": {
      "image/png": "[encoded data removed]",
      "text/plain": [
       "<Figure size 432x288 with 1 Axes>"
      ]
     },
     "metadata": {
      "needs_background": "light"
     },
     "output_type": "display_data"
    }
   ],
   "source": [
    "xs = X[:,0]\n",
    "ys = X[:,1]\n",
    "zs = X[:,2]\n",
    "colors = y\n",
    "\n",
    "fig = plt.figure()\n",
    "ax = fig.add_subplot(projection='3d')\n",
    "ax.scatter3D(xs,ys,zs,c=colors,alpha=0.5)\n",
    "ax.view_init(-175,140)\n",
    "plt.savefig('trec_graph.pdf')\n",
    "plt.show()"
   ]
  },
  {
   "attachments": {},
   "cell_type": "markdown",
   "metadata": {},
   "source": [
    "# Reference SVM classification"
   ]
  },
  {
   "cell_type": "code",
   "execution_count": 6,
   "metadata": {},
   "outputs": [
    {
     "name": "stdout",
     "output_type": "stream",
     "text": [
      "SVM model fitted in 109.46118951799872 second(s)\n",
      "SVM predicted the testset in 15.90981170500163 second(s)\n"
     ]
    },
    {
     "data": {
      "text/html": [
       "<div>\n",
       "<style scoped>\n",
       "    .dataframe tbody tr th:only-of-type {\n",
       "        vertical-align: middle;\n",
       "    }\n",
       "\n",
       "    .dataframe tbody tr th {\n",
       "        vertical-align: top;\n",
       "    }\n",
       "\n",
       "    .dataframe thead th {\n",
       "        text-align: right;\n",
       "    }\n",
       "</style>\n",
       "<table border=\"1\" class=\"dataframe\">\n",
       "  <thead>\n",
       "    <tr style=\"text-align: right;\">\n",
       "      <th></th>\n",
       "      <th>0</th>\n",
       "      <th>1</th>\n",
       "      <th>accuracy</th>\n",
       "      <th>macro avg</th>\n",
       "      <th>weighted avg</th>\n",
       "    </tr>\n",
       "  </thead>\n",
       "  <tbody>\n",
       "    <tr>\n",
       "      <th>precision</th>\n",
       "      <td>0.987585</td>\n",
       "      <td>0.969765</td>\n",
       "      <td>0.975487</td>\n",
       "      <td>0.978675</td>\n",
       "      <td>0.975781</td>\n",
       "    </tr>\n",
       "    <tr>\n",
       "      <th>recall</th>\n",
       "      <td>0.939197</td>\n",
       "      <td>0.993983</td>\n",
       "      <td>0.975487</td>\n",
       "      <td>0.966590</td>\n",
       "      <td>0.975487</td>\n",
       "    </tr>\n",
       "    <tr>\n",
       "      <th>f1-score</th>\n",
       "      <td>0.962784</td>\n",
       "      <td>0.981725</td>\n",
       "      <td>0.975487</td>\n",
       "      <td>0.972254</td>\n",
       "      <td>0.975330</td>\n",
       "    </tr>\n",
       "    <tr>\n",
       "      <th>support</th>\n",
       "      <td>5082.000000</td>\n",
       "      <td>9971.000000</td>\n",
       "      <td>0.975487</td>\n",
       "      <td>15053.000000</td>\n",
       "      <td>15053.000000</td>\n",
       "    </tr>\n",
       "  </tbody>\n",
       "</table>\n",
       "</div>"
      ],
      "text/plain": [
       "                     0            1  accuracy     macro avg  weighted avg\n",
       "precision     0.987585     0.969765  0.975487      0.978675      0.975781\n",
       "recall        0.939197     0.993983  0.975487      0.966590      0.975487\n",
       "f1-score      0.962784     0.981725  0.975487      0.972254      0.975330\n",
       "support    5082.000000  9971.000000  0.975487  15053.000000  15053.000000"
      ]
     },
     "execution_count": 6,
     "metadata": {},
     "output_type": "execute_result"
    }
   ],
   "source": [
    "reference_report, X_test, y_test, y_pred = classification.svm(X,y,test_size, random_state)\n",
    "\n",
    "reference_report"
   ]
  },
  {
   "attachments": {},
   "cell_type": "markdown",
   "metadata": {},
   "source": [
    "this is our reference svm for the comparison"
   ]
  },
  {
   "cell_type": "code",
   "execution_count": 7,
   "metadata": {},
   "outputs": [
    {
     "name": "stdout",
     "output_type": "stream",
     "text": [
      "Got 369 classificaton mistakes\n"
     ]
    },
    {
     "data": {
      "image/png": "[encoded data removed]",
      "text/plain": [
       "<Figure size 432x288 with 1 Axes>"
      ]
     },
     "metadata": {
      "needs_background": "light"
     },
     "output_type": "display_data"
    }
   ],
   "source": [
    "x_wrong = X_test[y_test != y_pred]\n",
    "print(\"Got %d classificaton mistakes\" % len(x_wrong))\n",
    "\n",
    "fig = plt.figure()\n",
    "ax = fig.add_subplot(projection='3d')\n",
    "ax.scatter3D(X_test[:,0], X_test[:,1], X_test[:,2],c=y_pred, marker=\"o\")\n",
    "ax.scatter(x_wrong[:,0], x_wrong[:,1], x_wrong[:,2], color='red', marker=\"x\")\n",
    "ax.view_init(-175,140)\n",
    "plt.show()"
   ]
  },
  {
   "attachments": {},
   "cell_type": "markdown",
   "metadata": {},
   "source": [
    "# K-Means + Elbow plot"
   ]
  },
  {
   "attachments": {},
   "cell_type": "markdown",
   "metadata": {},
   "source": [
    "Now we create our elbow graph. A cluster count above 25 has not much sense."
   ]
  },
  {
   "cell_type": "code",
   "execution_count": 18,
   "metadata": {},
   "outputs": [
    {
     "data": {
      "image/png": "[encoded data removed]",
      "text/plain": [
       "<Figure size 432x288 with 1 Axes>"
      ]
     },
     "metadata": {
      "needs_background": "light"
     },
     "output_type": "display_data"
    }
   ],
   "source": [
    "max_cluster = 25\n",
    "inertias = classification.elbow_inertias_list(X,max_cluster)\n",
    "\n",
    "plt.figure()\n",
    "plt.plot(range(1,max_cluster), inertias, marker='o')\n",
    "plt.title('TREC')\n",
    "plt.xlabel('Number of clusters')\n",
    "plt.ylabel('Inertia')\n",
    "plt.savefig('trec_elbow_high_dim.pdf')\n",
    "plt.show() "
   ]
  },
  {
   "cell_type": "code",
   "execution_count": 19,
   "metadata": {},
   "outputs": [
    {
     "data": {
      "image/png": "[encoded data removed]",
      "text/plain": [
       "<Figure size 432x288 with 1 Axes>"
      ]
     },
     "metadata": {
      "needs_background": "light"
     },
     "output_type": "display_data"
    }
   ],
   "source": [
    "max_cluster = 25\n",
    "inertias = classification.elbow_inertias_list(X[:,:2],max_cluster)\n",
    "\n",
    "plt.figure()\n",
    "plt.plot(range(1,max_cluster), inertias, marker='o')\n",
    "plt.title('TREC')\n",
    "plt.xlabel('Number of clusters')\n",
    "plt.ylabel('Inertia')\n",
    "plt.savefig('trec_elbow_two_dim.pdf')\n",
    "plt.show() "
   ]
  },
  {
   "attachments": {},
   "cell_type": "markdown",
   "metadata": {},
   "source": [
    "# SVM and K-Means merging hypothesis"
   ]
  },
  {
   "attachments": {},
   "cell_type": "markdown",
   "metadata": {},
   "source": [
    "Now we test our hypothesis, wether replacing the original labels with k-means generated labels can improve a svm classification"
   ]
  },
  {
   "cell_type": "code",
   "execution_count": 10,
   "metadata": {},
   "outputs": [
    {
     "name": "stdout",
     "output_type": "stream",
     "text": [
      "It took 53.72084788799839 second(s) to search the best k-means clustering for merging hypothesis\n",
      "It took 55.28767910299939 second(s) to complete the svm classification combined with k-means - merging hypothesis\n"
     ]
    },
    {
     "data": {
      "text/html": [
       "<div>\n",
       "<style scoped>\n",
       "    .dataframe tbody tr th:only-of-type {\n",
       "        vertical-align: middle;\n",
       "    }\n",
       "\n",
       "    .dataframe tbody tr th {\n",
       "        vertical-align: top;\n",
       "    }\n",
       "\n",
       "    .dataframe thead th {\n",
       "        text-align: right;\n",
       "    }\n",
       "</style>\n",
       "<table border=\"1\" class=\"dataframe\">\n",
       "  <thead>\n",
       "    <tr style=\"text-align: right;\">\n",
       "      <th></th>\n",
       "      <th>0</th>\n",
       "      <th>1</th>\n",
       "      <th>accuracy</th>\n",
       "      <th>macro avg</th>\n",
       "      <th>weighted avg</th>\n",
       "    </tr>\n",
       "  </thead>\n",
       "  <tbody>\n",
       "    <tr>\n",
       "      <th>precision</th>\n",
       "      <td>0.351866</td>\n",
       "      <td>1.000000</td>\n",
       "      <td>0.378131</td>\n",
       "      <td>0.675933</td>\n",
       "      <td>0.781185</td>\n",
       "    </tr>\n",
       "    <tr>\n",
       "      <th>recall</th>\n",
       "      <td>1.000000</td>\n",
       "      <td>0.061177</td>\n",
       "      <td>0.378131</td>\n",
       "      <td>0.530589</td>\n",
       "      <td>0.378131</td>\n",
       "    </tr>\n",
       "    <tr>\n",
       "      <th>f1-score</th>\n",
       "      <td>0.520563</td>\n",
       "      <td>0.115301</td>\n",
       "      <td>0.378131</td>\n",
       "      <td>0.317932</td>\n",
       "      <td>0.252120</td>\n",
       "    </tr>\n",
       "    <tr>\n",
       "      <th>support</th>\n",
       "      <td>5082.000000</td>\n",
       "      <td>9971.000000</td>\n",
       "      <td>0.378131</td>\n",
       "      <td>15053.000000</td>\n",
       "      <td>15053.000000</td>\n",
       "    </tr>\n",
       "  </tbody>\n",
       "</table>\n",
       "</div>"
      ],
      "text/plain": [
       "                     0            1  accuracy     macro avg  weighted avg\n",
       "precision     0.351866     1.000000  0.378131      0.675933      0.781185\n",
       "recall        1.000000     0.061177  0.378131      0.530589      0.378131\n",
       "f1-score      0.520563     0.115301  0.378131      0.317932      0.252120\n",
       "support    5082.000000  9971.000000  0.378131  15053.000000  15053.000000"
      ]
     },
     "execution_count": 10,
     "metadata": {},
     "output_type": "execute_result"
    }
   ],
   "source": [
    "report, X_test, y_test, y_pred = classification.svm_merging_hypothesis(2,X,y)\n",
    "report"
   ]
  },
  {
   "attachments": {},
   "cell_type": "markdown",
   "metadata": {},
   "source": [
    "k-means with the original cluster count does not improve the classification"
   ]
  },
  {
   "cell_type": "code",
   "execution_count": 11,
   "metadata": {},
   "outputs": [
    {
     "name": "stdout",
     "output_type": "stream",
     "text": [
      "Got 9361 classificaton mistakes\n"
     ]
    },
    {
     "data": {
      "image/png": "[encoded data removed]",
      "text/plain": [
       "<Figure size 432x288 with 1 Axes>"
      ]
     },
     "metadata": {
      "needs_background": "light"
     },
     "output_type": "display_data"
    }
   ],
   "source": [
    "x_wrong = X_test[y_test != y_pred]\n",
    "print(\"Got %d classificaton mistakes\" % len(x_wrong))\n",
    "\n",
    "fig = plt.figure()\n",
    "ax = fig.add_subplot(projection='3d')\n",
    "ax.scatter3D(X_test[:,0], X_test[:,1], X_test[:,2],c=y_pred, marker=\"o\")\n",
    "ax.scatter(x_wrong[:,0], x_wrong[:,1], x_wrong[:,2], color='red', marker=\"x\")\n",
    "ax.view_init(-175,140)\n",
    "plt.show()"
   ]
  },
  {
   "attachments": {},
   "cell_type": "markdown",
   "metadata": {},
   "source": [
    "Now we estimate a good cluster count based on the graph"
   ]
  },
  {
   "cell_type": "code",
   "execution_count": 12,
   "metadata": {},
   "outputs": [
    {
     "name": "stdout",
     "output_type": "stream",
     "text": [
      "It took 68.82336932999897 second(s) to search the best k-means clustering for merging hypothesis\n",
      "It took 70.04967159799708 second(s) to complete the svm classification combined with k-means - merging hypothesis\n"
     ]
    },
    {
     "data": {
      "text/html": [
       "<div>\n",
       "<style scoped>\n",
       "    .dataframe tbody tr th:only-of-type {\n",
       "        vertical-align: middle;\n",
       "    }\n",
       "\n",
       "    .dataframe tbody tr th {\n",
       "        vertical-align: top;\n",
       "    }\n",
       "\n",
       "    .dataframe thead th {\n",
       "        text-align: right;\n",
       "    }\n",
       "</style>\n",
       "<table border=\"1\" class=\"dataframe\">\n",
       "  <thead>\n",
       "    <tr style=\"text-align: right;\">\n",
       "      <th></th>\n",
       "      <th>0</th>\n",
       "      <th>1</th>\n",
       "      <th>accuracy</th>\n",
       "      <th>macro avg</th>\n",
       "      <th>weighted avg</th>\n",
       "    </tr>\n",
       "  </thead>\n",
       "  <tbody>\n",
       "    <tr>\n",
       "      <th>precision</th>\n",
       "      <td>0.351866</td>\n",
       "      <td>1.000000</td>\n",
       "      <td>0.378131</td>\n",
       "      <td>0.675933</td>\n",
       "      <td>0.781185</td>\n",
       "    </tr>\n",
       "    <tr>\n",
       "      <th>recall</th>\n",
       "      <td>1.000000</td>\n",
       "      <td>0.061177</td>\n",
       "      <td>0.378131</td>\n",
       "      <td>0.530589</td>\n",
       "      <td>0.378131</td>\n",
       "    </tr>\n",
       "    <tr>\n",
       "      <th>f1-score</th>\n",
       "      <td>0.520563</td>\n",
       "      <td>0.115301</td>\n",
       "      <td>0.378131</td>\n",
       "      <td>0.317932</td>\n",
       "      <td>0.252120</td>\n",
       "    </tr>\n",
       "    <tr>\n",
       "      <th>support</th>\n",
       "      <td>5082.000000</td>\n",
       "      <td>9971.000000</td>\n",
       "      <td>0.378131</td>\n",
       "      <td>15053.000000</td>\n",
       "      <td>15053.000000</td>\n",
       "    </tr>\n",
       "  </tbody>\n",
       "</table>\n",
       "</div>"
      ],
      "text/plain": [
       "                     0            1  accuracy     macro avg  weighted avg\n",
       "precision     0.351866     1.000000  0.378131      0.675933      0.781185\n",
       "recall        1.000000     0.061177  0.378131      0.530589      0.378131\n",
       "f1-score      0.520563     0.115301  0.378131      0.317932      0.252120\n",
       "support    5082.000000  9971.000000  0.378131  15053.000000  15053.000000"
      ]
     },
     "execution_count": 12,
     "metadata": {},
     "output_type": "execute_result"
    }
   ],
   "source": [
    "report, X_test, y_test, y_pred = classification.svm_merging_hypothesis(3,X,y)\n",
    "report"
   ]
  },
  {
   "cell_type": "code",
   "execution_count": 13,
   "metadata": {},
   "outputs": [
    {
     "name": "stdout",
     "output_type": "stream",
     "text": [
      "Got 9361 classificaton mistakes\n"
     ]
    },
    {
     "data": {
      "image/png": "[encoded data removed]",
      "text/plain": [
       "<Figure size 432x288 with 1 Axes>"
      ]
     },
     "metadata": {
      "needs_background": "light"
     },
     "output_type": "display_data"
    }
   ],
   "source": [
    "x_wrong = X_test[y_test != y_pred]\n",
    "print(\"Got %d classificaton mistakes\" % len(x_wrong))\n",
    "\n",
    "fig = plt.figure()\n",
    "ax = fig.add_subplot(projection='3d')\n",
    "ax.scatter3D(X_test[:,0], X_test[:,1], X_test[:,2],c=y_pred, marker=\"o\")\n",
    "ax.scatter(x_wrong[:,0], x_wrong[:,1], x_wrong[:,2], color='red', marker=\"x\")\n",
    "ax.view_init(-175,140)\n",
    "plt.show()"
   ]
  },
  {
   "attachments": {},
   "cell_type": "markdown",
   "metadata": {},
   "source": [
    "For increasing the number of clusters, the classification is getting worse.\n",
    "The classification results are worse than the normal SVM\n",
    " \n",
    "-> Merging is not a good approach"
   ]
  },
  {
   "attachments": {},
   "cell_type": "markdown",
   "metadata": {},
   "source": [
    "# Adding K-means clustering as new feature"
   ]
  },
  {
   "attachments": {},
   "cell_type": "markdown",
   "metadata": {},
   "source": [
    "we add now the k-means clustering result as a new column in our dataset and then classify the data with a svm. -> Test this approach with cluster count between 2 and 25"
   ]
  },
  {
   "cell_type": "code",
   "execution_count": 14,
   "metadata": {},
   "outputs": [
    {
     "data": {
      "text/html": [
       "<div>\n",
       "<style scoped>\n",
       "    .dataframe tbody tr th:only-of-type {\n",
       "        vertical-align: middle;\n",
       "    }\n",
       "\n",
       "    .dataframe tbody tr th {\n",
       "        vertical-align: top;\n",
       "    }\n",
       "\n",
       "    .dataframe thead th {\n",
       "        text-align: right;\n",
       "    }\n",
       "</style>\n",
       "<table border=\"1\" class=\"dataframe\">\n",
       "  <thead>\n",
       "    <tr style=\"text-align: right;\">\n",
       "      <th></th>\n",
       "      <th>0</th>\n",
       "      <th>1</th>\n",
       "      <th>accuracy</th>\n",
       "      <th>macro avg</th>\n",
       "      <th>weighted avg</th>\n",
       "    </tr>\n",
       "  </thead>\n",
       "  <tbody>\n",
       "    <tr>\n",
       "      <th>precision</th>\n",
       "      <td>0.987585</td>\n",
       "      <td>0.969765</td>\n",
       "      <td>0.975487</td>\n",
       "      <td>0.978675</td>\n",
       "      <td>0.975781</td>\n",
       "    </tr>\n",
       "    <tr>\n",
       "      <th>recall</th>\n",
       "      <td>0.939197</td>\n",
       "      <td>0.993983</td>\n",
       "      <td>0.975487</td>\n",
       "      <td>0.966590</td>\n",
       "      <td>0.975487</td>\n",
       "    </tr>\n",
       "    <tr>\n",
       "      <th>f1-score</th>\n",
       "      <td>0.962784</td>\n",
       "      <td>0.981725</td>\n",
       "      <td>0.975487</td>\n",
       "      <td>0.972254</td>\n",
       "      <td>0.975330</td>\n",
       "    </tr>\n",
       "    <tr>\n",
       "      <th>support</th>\n",
       "      <td>5082.000000</td>\n",
       "      <td>9971.000000</td>\n",
       "      <td>0.975487</td>\n",
       "      <td>15053.000000</td>\n",
       "      <td>15053.000000</td>\n",
       "    </tr>\n",
       "  </tbody>\n",
       "</table>\n",
       "</div>"
      ],
      "text/plain": [
       "                     0            1  accuracy     macro avg  weighted avg\n",
       "precision     0.987585     0.969765  0.975487      0.978675      0.975781\n",
       "recall        0.939197     0.993983  0.975487      0.966590      0.975487\n",
       "f1-score      0.962784     0.981725  0.975487      0.972254      0.975330\n",
       "support    5082.000000  9971.000000  0.975487  15053.000000  15053.000000"
      ]
     },
     "execution_count": 14,
     "metadata": {},
     "output_type": "execute_result"
    }
   ],
   "source": [
    "reference_report"
   ]
  },
  {
   "cell_type": "code",
   "execution_count": 15,
   "metadata": {},
   "outputs": [
    {
     "data": {
      "text/html": [
       "<div>\n",
       "<style scoped>\n",
       "    .dataframe tbody tr th:only-of-type {\n",
       "        vertical-align: middle;\n",
       "    }\n",
       "\n",
       "    .dataframe tbody tr th {\n",
       "        vertical-align: top;\n",
       "    }\n",
       "\n",
       "    .dataframe thead th {\n",
       "        text-align: right;\n",
       "    }\n",
       "</style>\n",
       "<table border=\"1\" class=\"dataframe\">\n",
       "  <thead>\n",
       "    <tr style=\"text-align: right;\">\n",
       "      <th></th>\n",
       "      <th>Number_of_clusters</th>\n",
       "      <th>Accuracy</th>\n",
       "      <th>F_one_Score</th>\n",
       "      <th>Time</th>\n",
       "    </tr>\n",
       "  </thead>\n",
       "  <tbody>\n",
       "    <tr>\n",
       "      <th>0</th>\n",
       "      <td>2.0</td>\n",
       "      <td>0.975487</td>\n",
       "      <td>0.962791</td>\n",
       "      <td>112.967355</td>\n",
       "    </tr>\n",
       "    <tr>\n",
       "      <th>1</th>\n",
       "      <td>3.0</td>\n",
       "      <td>0.975553</td>\n",
       "      <td>0.962896</td>\n",
       "      <td>125.461196</td>\n",
       "    </tr>\n",
       "    <tr>\n",
       "      <th>2</th>\n",
       "      <td>4.0</td>\n",
       "      <td>0.958081</td>\n",
       "      <td>0.936577</td>\n",
       "      <td>213.054474</td>\n",
       "    </tr>\n",
       "    <tr>\n",
       "      <th>3</th>\n",
       "      <td>5.0</td>\n",
       "      <td>0.957085</td>\n",
       "      <td>0.935154</td>\n",
       "      <td>213.819596</td>\n",
       "    </tr>\n",
       "    <tr>\n",
       "      <th>4</th>\n",
       "      <td>6.0</td>\n",
       "      <td>0.957019</td>\n",
       "      <td>0.934929</td>\n",
       "      <td>210.509466</td>\n",
       "    </tr>\n",
       "    <tr>\n",
       "      <th>5</th>\n",
       "      <td>7.0</td>\n",
       "      <td>0.954428</td>\n",
       "      <td>0.931564</td>\n",
       "      <td>222.609965</td>\n",
       "    </tr>\n",
       "    <tr>\n",
       "      <th>6</th>\n",
       "      <td>8.0</td>\n",
       "      <td>0.831396</td>\n",
       "      <td>0.757686</td>\n",
       "      <td>257.266192</td>\n",
       "    </tr>\n",
       "    <tr>\n",
       "      <th>7</th>\n",
       "      <td>9.0</td>\n",
       "      <td>0.632432</td>\n",
       "      <td>0.176514</td>\n",
       "      <td>827.252715</td>\n",
       "    </tr>\n",
       "    <tr>\n",
       "      <th>8</th>\n",
       "      <td>10.0</td>\n",
       "      <td>0.698731</td>\n",
       "      <td>0.538516</td>\n",
       "      <td>540.410520</td>\n",
       "    </tr>\n",
       "    <tr>\n",
       "      <th>9</th>\n",
       "      <td>11.0</td>\n",
       "      <td>0.593835</td>\n",
       "      <td>0.410187</td>\n",
       "      <td>780.832341</td>\n",
       "    </tr>\n",
       "    <tr>\n",
       "      <th>10</th>\n",
       "      <td>12.0</td>\n",
       "      <td>0.579884</td>\n",
       "      <td>0.337801</td>\n",
       "      <td>647.705990</td>\n",
       "    </tr>\n",
       "    <tr>\n",
       "      <th>11</th>\n",
       "      <td>13.0</td>\n",
       "      <td>0.693882</td>\n",
       "      <td>0.543943</td>\n",
       "      <td>597.970733</td>\n",
       "    </tr>\n",
       "    <tr>\n",
       "      <th>12</th>\n",
       "      <td>14.0</td>\n",
       "      <td>0.599880</td>\n",
       "      <td>0.339076</td>\n",
       "      <td>843.248095</td>\n",
       "    </tr>\n",
       "    <tr>\n",
       "      <th>13</th>\n",
       "      <td>15.0</td>\n",
       "      <td>0.694812</td>\n",
       "      <td>0.546406</td>\n",
       "      <td>439.000352</td>\n",
       "    </tr>\n",
       "    <tr>\n",
       "      <th>14</th>\n",
       "      <td>16.0</td>\n",
       "      <td>0.639142</td>\n",
       "      <td>0.354716</td>\n",
       "      <td>699.461868</td>\n",
       "    </tr>\n",
       "    <tr>\n",
       "      <th>15</th>\n",
       "      <td>17.0</td>\n",
       "      <td>0.614828</td>\n",
       "      <td>0.371422</td>\n",
       "      <td>919.430529</td>\n",
       "    </tr>\n",
       "    <tr>\n",
       "      <th>16</th>\n",
       "      <td>18.0</td>\n",
       "      <td>0.550854</td>\n",
       "      <td>0.192524</td>\n",
       "      <td>836.457235</td>\n",
       "    </tr>\n",
       "    <tr>\n",
       "      <th>17</th>\n",
       "      <td>19.0</td>\n",
       "      <td>0.745433</td>\n",
       "      <td>0.587602</td>\n",
       "      <td>351.429339</td>\n",
       "    </tr>\n",
       "    <tr>\n",
       "      <th>18</th>\n",
       "      <td>20.0</td>\n",
       "      <td>0.663323</td>\n",
       "      <td>0.501672</td>\n",
       "      <td>389.166238</td>\n",
       "    </tr>\n",
       "    <tr>\n",
       "      <th>19</th>\n",
       "      <td>21.0</td>\n",
       "      <td>0.647114</td>\n",
       "      <td>0.493226</td>\n",
       "      <td>457.290261</td>\n",
       "    </tr>\n",
       "    <tr>\n",
       "      <th>20</th>\n",
       "      <td>22.0</td>\n",
       "      <td>0.510862</td>\n",
       "      <td>0.271062</td>\n",
       "      <td>554.582495</td>\n",
       "    </tr>\n",
       "    <tr>\n",
       "      <th>21</th>\n",
       "      <td>23.0</td>\n",
       "      <td>0.510862</td>\n",
       "      <td>0.271062</td>\n",
       "      <td>623.671439</td>\n",
       "    </tr>\n",
       "    <tr>\n",
       "      <th>22</th>\n",
       "      <td>24.0</td>\n",
       "      <td>0.579087</td>\n",
       "      <td>0.363600</td>\n",
       "      <td>622.547345</td>\n",
       "    </tr>\n",
       "    <tr>\n",
       "      <th>23</th>\n",
       "      <td>25.0</td>\n",
       "      <td>0.662393</td>\n",
       "      <td>0.000000</td>\n",
       "      <td>664.279487</td>\n",
       "    </tr>\n",
       "  </tbody>\n",
       "</table>\n",
       "</div>"
      ],
      "text/plain": [
       "    Number_of_clusters  Accuracy  F_one_Score        Time\n",
       "0                  2.0  0.975487     0.962791  112.967355\n",
       "1                  3.0  0.975553     0.962896  125.461196\n",
       "2                  4.0  0.958081     0.936577  213.054474\n",
       "3                  5.0  0.957085     0.935154  213.819596\n",
       "4                  6.0  0.957019     0.934929  210.509466\n",
       "5                  7.0  0.954428     0.931564  222.609965\n",
       "6                  8.0  0.831396     0.757686  257.266192\n",
       "7                  9.0  0.632432     0.176514  827.252715\n",
       "8                 10.0  0.698731     0.538516  540.410520\n",
       "9                 11.0  0.593835     0.410187  780.832341\n",
       "10                12.0  0.579884     0.337801  647.705990\n",
       "11                13.0  0.693882     0.543943  597.970733\n",
       "12                14.0  0.599880     0.339076  843.248095\n",
       "13                15.0  0.694812     0.546406  439.000352\n",
       "14                16.0  0.639142     0.354716  699.461868\n",
       "15                17.0  0.614828     0.371422  919.430529\n",
       "16                18.0  0.550854     0.192524  836.457235\n",
       "17                19.0  0.745433     0.587602  351.429339\n",
       "18                20.0  0.663323     0.501672  389.166238\n",
       "19                21.0  0.647114     0.493226  457.290261\n",
       "20                22.0  0.510862     0.271062  554.582495\n",
       "21                23.0  0.510862     0.271062  623.671439\n",
       "22                24.0  0.579087     0.363600  622.547345\n",
       "23                25.0  0.662393     0.000000  664.279487"
      ]
     },
     "execution_count": 15,
     "metadata": {},
     "output_type": "execute_result"
    }
   ],
   "source": [
    "report = classification.k_means_cluster_search(X,y,25)\n",
    "report"
   ]
  },
  {
   "attachments": {},
   "cell_type": "markdown",
   "metadata": {},
   "source": [
    "Doesn't seems to be a good aproach too."
   ]
  },
  {
   "attachments": {},
   "cell_type": "markdown",
   "metadata": {},
   "source": [
    "# Combine both approaches"
   ]
  },
  {
   "attachments": {},
   "cell_type": "markdown",
   "metadata": {},
   "source": [
    "Add the merging approach as a new feature vector to the dataset and then classify with svm."
   ]
  },
  {
   "cell_type": "code",
   "execution_count": 16,
   "metadata": {},
   "outputs": [
    {
     "name": "stdout",
     "output_type": "stream",
     "text": [
      "It took 116.41315050199773 second(s) to search the best k-means clustering for merging hypothesis\n"
     ]
    },
    {
     "data": {
      "text/html": [
       "<div>\n",
       "<style scoped>\n",
       "    .dataframe tbody tr th:only-of-type {\n",
       "        vertical-align: middle;\n",
       "    }\n",
       "\n",
       "    .dataframe tbody tr th {\n",
       "        vertical-align: top;\n",
       "    }\n",
       "\n",
       "    .dataframe thead th {\n",
       "        text-align: right;\n",
       "    }\n",
       "</style>\n",
       "<table border=\"1\" class=\"dataframe\">\n",
       "  <thead>\n",
       "    <tr style=\"text-align: right;\">\n",
       "      <th></th>\n",
       "      <th>Accuracy</th>\n",
       "      <th>F_one_Score</th>\n",
       "      <th>Time</th>\n",
       "    </tr>\n",
       "  </thead>\n",
       "  <tbody>\n",
       "    <tr>\n",
       "      <th>0</th>\n",
       "      <td>0.975553</td>\n",
       "      <td>0.962896</td>\n",
       "      <td>259.238877</td>\n",
       "    </tr>\n",
       "  </tbody>\n",
       "</table>\n",
       "</div>"
      ],
      "text/plain": [
       "   Accuracy  F_one_Score        Time\n",
       "0  0.975553     0.962896  259.238877"
      ]
     },
     "execution_count": 16,
     "metadata": {},
     "output_type": "execute_result"
    }
   ],
   "source": [
    "report = classification.k_means_cluster_search_merging_hypothesis(X,y,3)\n",
    "report"
   ]
  },
  {
   "cell_type": "code",
   "execution_count": 17,
   "metadata": {},
   "outputs": [
    {
     "name": "stdout",
     "output_type": "stream",
     "text": [
      "It took 151.58514847699553 second(s) to search the best k-means clustering for merging hypothesis\n"
     ]
    },
    {
     "data": {
      "text/html": [
       "<div>\n",
       "<style scoped>\n",
       "    .dataframe tbody tr th:only-of-type {\n",
       "        vertical-align: middle;\n",
       "    }\n",
       "\n",
       "    .dataframe tbody tr th {\n",
       "        vertical-align: top;\n",
       "    }\n",
       "\n",
       "    .dataframe thead th {\n",
       "        text-align: right;\n",
       "    }\n",
       "</style>\n",
       "<table border=\"1\" class=\"dataframe\">\n",
       "  <thead>\n",
       "    <tr style=\"text-align: right;\">\n",
       "      <th></th>\n",
       "      <th>Accuracy</th>\n",
       "      <th>F_one_Score</th>\n",
       "      <th>Time</th>\n",
       "    </tr>\n",
       "  </thead>\n",
       "  <tbody>\n",
       "    <tr>\n",
       "      <th>0</th>\n",
       "      <td>0.97542</td>\n",
       "      <td>0.962687</td>\n",
       "      <td>298.153102</td>\n",
       "    </tr>\n",
       "  </tbody>\n",
       "</table>\n",
       "</div>"
      ],
      "text/plain": [
       "   Accuracy  F_one_Score        Time\n",
       "0   0.97542     0.962687  298.153102"
      ]
     },
     "execution_count": 17,
     "metadata": {},
     "output_type": "execute_result"
    }
   ],
   "source": [
    "report = classification.k_means_cluster_search_merging_hypothesis(X,y,4)\n",
    "report"
   ]
  },
  {
   "attachments": {},
   "cell_type": "markdown",
   "metadata": {},
   "source": [
    "It is very computation heavy even on a small dataset. So even a slightly improve is not worth."
   ]
  }
 ],
 "metadata": {
  "kernelspec": {
   "display_name": "Python 3 (ipykernel)",
   "language": "python",
   "name": "python3"
  },
  "language_info": {
   "codemirror_mode": {
    "name": "ipython",
    "version": 3
   },
   "file_extension": ".py",
   "mimetype": "text/x-python",
   "name": "python",
   "nbconvert_exporter": "python",
   "pygments_lexer": "ipython3",
   "version": "3.10.6"
  },
  "vscode": {
   "interpreter": {
    "hash": "e7370f93d1d0cde622a1f8e1c04877d8463912d04d973331ad4851f04de6915a"
   }
  }
 },
 "nbformat": 4,
 "nbformat_minor": 4
}
