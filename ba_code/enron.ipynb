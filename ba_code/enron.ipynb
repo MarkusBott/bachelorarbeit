{
 "cells": [
  {
   "cell_type": "code",
   "execution_count": 1,
   "metadata": {},
   "outputs": [
    {
     "name": "stderr",
     "output_type": "stream",
     "text": [
      "[nltk_data] Downloading package wordnet to /home/makus/nltk_data...\n",
      "[nltk_data]   Package wordnet is already up-to-date!\n",
      "[nltk_data] Downloading package stopwords to /home/makus/nltk_data...\n",
      "[nltk_data]   Package stopwords is already up-to-date!\n"
     ]
    }
   ],
   "source": [
    "import pandas as pd\n",
    "import numpy as np\n",
    "import matplotlib.pyplot as plt\n",
    "import import_data\n",
    "import preprocessing\n",
    "import feature_extraction\n",
    "import dimension_reduction\n",
    "import classification\n",
    "import matplotlib \n",
    "import os\n",
    "\n",
    "test_size = 0.2\n",
    "random_state = 104"
   ]
  },
  {
   "cell_type": "code",
   "execution_count": 2,
   "metadata": {},
   "outputs": [],
   "source": [
    "os.chdir('/home/makus/Documents/Semester_7_WIN2022/Bachelorarbeit/bachelor-thesis/img/')"
   ]
  },
  {
   "attachments": {},
   "cell_type": "markdown",
   "metadata": {},
   "source": [
    "# load data"
   ]
  },
  {
   "cell_type": "code",
   "execution_count": 3,
   "metadata": {},
   "outputs": [
    {
     "data": {
      "text/html": [
       "<div>\n",
       "<style scoped>\n",
       "    .dataframe tbody tr th:only-of-type {\n",
       "        vertical-align: middle;\n",
       "    }\n",
       "\n",
       "    .dataframe tbody tr th {\n",
       "        vertical-align: top;\n",
       "    }\n",
       "\n",
       "    .dataframe thead th {\n",
       "        text-align: right;\n",
       "    }\n",
       "</style>\n",
       "<table border=\"1\" class=\"dataframe\">\n",
       "  <thead>\n",
       "    <tr style=\"text-align: right;\">\n",
       "      <th></th>\n",
       "      <th>text</th>\n",
       "      <th>label</th>\n",
       "    </tr>\n",
       "    <tr>\n",
       "      <th>index</th>\n",
       "      <th></th>\n",
       "      <th></th>\n",
       "    </tr>\n",
       "  </thead>\n",
       "  <tbody>\n",
       "    <tr>\n",
       "      <th>0</th>\n",
       "      <td>Subject: hpl nom for february 9 , 2001\\n( see ...</td>\n",
       "      <td>0</td>\n",
       "    </tr>\n",
       "    <tr>\n",
       "      <th>1</th>\n",
       "      <td>Subject: enron scheduled volumes - - - may 6 t...</td>\n",
       "      <td>0</td>\n",
       "    </tr>\n",
       "    <tr>\n",
       "      <th>2</th>\n",
       "      <td>Subject: chevron phillips chemical co . , lp (...</td>\n",
       "      <td>0</td>\n",
       "    </tr>\n",
       "    <tr>\n",
       "      <th>3</th>\n",
       "      <td>Subject: same day change - hpl nom for novembe...</td>\n",
       "      <td>0</td>\n",
       "    </tr>\n",
       "    <tr>\n",
       "      <th>4</th>\n",
       "      <td>Subject: calpine daily gas nomination\\n&gt;\\n&gt;\\nj...</td>\n",
       "      <td>0</td>\n",
       "    </tr>\n",
       "    <tr>\n",
       "      <th>...</th>\n",
       "      <td>...</td>\n",
       "      <td>...</td>\n",
       "    </tr>\n",
       "    <tr>\n",
       "      <th>33711</th>\n",
       "      <td>Subject: will cut the years 3 . 46 % ( 8 )\\nh ...</td>\n",
       "      <td>1</td>\n",
       "    </tr>\n",
       "    <tr>\n",
       "      <th>33712</th>\n",
       "      <td>Subject: top stock to consider right now ?\\ndy...</td>\n",
       "      <td>1</td>\n",
       "    </tr>\n",
       "    <tr>\n",
       "      <th>33713</th>\n",
       "      <td>Subject: congratulations ! ! !\\nthe lottery de...</td>\n",
       "      <td>1</td>\n",
       "    </tr>\n",
       "    <tr>\n",
       "      <th>33714</th>\n",
       "      <td>Subject: hello !\\ngood day .\\nadiu</td>\n",
       "      <td>1</td>\n",
       "    </tr>\n",
       "    <tr>\n",
       "      <th>33715</th>\n",
       "      <td>Subject: aggressive stock traders aiert\\nthis ...</td>\n",
       "      <td>1</td>\n",
       "    </tr>\n",
       "  </tbody>\n",
       "</table>\n",
       "<p>33716 rows × 2 columns</p>\n",
       "</div>"
      ],
      "text/plain": [
       "                                                    text  label\n",
       "index                                                          \n",
       "0      Subject: hpl nom for february 9 , 2001\\n( see ...      0\n",
       "1      Subject: enron scheduled volumes - - - may 6 t...      0\n",
       "2      Subject: chevron phillips chemical co . , lp (...      0\n",
       "3      Subject: same day change - hpl nom for novembe...      0\n",
       "4      Subject: calpine daily gas nomination\\n>\\n>\\nj...      0\n",
       "...                                                  ...    ...\n",
       "33711  Subject: will cut the years 3 . 46 % ( 8 )\\nh ...      1\n",
       "33712  Subject: top stock to consider right now ?\\ndy...      1\n",
       "33713  Subject: congratulations ! ! !\\nthe lottery de...      1\n",
       "33714                 Subject: hello !\\ngood day .\\nadiu      1\n",
       "33715  Subject: aggressive stock traders aiert\\nthis ...      1\n",
       "\n",
       "[33716 rows x 2 columns]"
      ]
     },
     "execution_count": 3,
     "metadata": {},
     "output_type": "execute_result"
    }
   ],
   "source": [
    "enron = import_data.create_df_enron('/home/makus/Documents/Semester_7_WIN2022/Bachelorarbeit/ba_code/datasets/enron/')\n",
    "enron"
   ]
  },
  {
   "attachments": {},
   "cell_type": "markdown",
   "metadata": {},
   "source": [
    "# feature extraction + dimension reduction"
   ]
  },
  {
   "cell_type": "code",
   "execution_count": 4,
   "metadata": {},
   "outputs": [
    {
     "name": "stdout",
     "output_type": "stream",
     "text": [
      "It took 7.284430094994605 second(s) to finish TF-IDF feature extraction.\n",
      "It took 13.97023425399675 second(s) to finish dimension reduction with Sparse Random Projection.\n",
      "It took 231.52515999499883 second(s) to finish dimension reduction with IPCA.\n"
     ]
    },
    {
     "data": {
      "text/plain": [
       "(33716, 100)"
      ]
     },
     "execution_count": 4,
     "metadata": {},
     "output_type": "execute_result"
    }
   ],
   "source": [
    "y = np.array(enron['label'],dtype=int)\n",
    "mails = enron['text']\n",
    "\n",
    "tfidf_mails = feature_extraction.tfidf_vectorize(mails)\n",
    "sparse_mails = dimension_reduction.sparse_random_projection(tfidf_mails)\n",
    "ipca_mails = dimension_reduction.ipca(sparse_mails, 100)\n",
    "X = ipca_mails\n",
    "del mails, tfidf_mails, sparse_mails, ipca_mails, enron\n",
    "\n",
    "X.shape"
   ]
  },
  {
   "cell_type": "code",
   "execution_count": 35,
   "metadata": {},
   "outputs": [
    {
     "name": "stderr",
     "output_type": "stream",
     "text": [
      "No artists with labels found to put in legend.  Note that artists whose label start with an underscore are ignored when legend() is called with no argument.\n"
     ]
    },
    {
     "data": {
      "image/png": "[encoded data removed]",
      "text/plain": [
       "<Figure size 432x288 with 1 Axes>"
      ]
     },
     "metadata": {
      "needs_background": "light"
     },
     "output_type": "display_data"
    }
   ],
   "source": [
    "xs = X[:,0]\n",
    "ys = X[:,1]\n",
    "zs = X[:,2]\n",
    "colors = y\n",
    "\n",
    "fig = plt.figure()\n",
    "ax = fig.add_subplot(projection='3d')\n",
    "ax.scatter(xs, ys, zs, c=colors, alpha = 0.5)\n",
    "ax.view_init(-145,100)\n",
    "plt.savefig('enron_graph.pdf')\n",
    "plt.show()"
   ]
  },
  {
   "cell_type": "code",
   "execution_count": 40,
   "metadata": {},
   "outputs": [
    {
     "data": {
      "image/png": "[encoded data removed]",
      "text/plain": [
       "<Figure size 432x288 with 1 Axes>"
      ]
     },
     "metadata": {
      "needs_background": "light"
     },
     "output_type": "display_data"
    }
   ],
   "source": [
    "xs = X[:,0]\n",
    "ys = X[:,1]\n",
    "zs = X[:,2]\n",
    "colors = y\n",
    "\n",
    "fig = plt.figure()\n",
    "ax = fig.add_subplot(projection='3d')\n",
    "ax.scatter(xs, ys, zs, c=colors, alpha = 0.5)\n",
    "ax.view_init(-175,10)\n",
    "plt.savefig('enron_graph_two.pdf')\n",
    "plt.show()"
   ]
  },
  {
   "attachments": {},
   "cell_type": "markdown",
   "metadata": {},
   "source": [
    "# Reference SVM classification"
   ]
  },
  {
   "cell_type": "code",
   "execution_count": 6,
   "metadata": {},
   "outputs": [
    {
     "name": "stdout",
     "output_type": "stream",
     "text": [
      "SVM model fitted in 48.92246241400426 second(s)\n",
      "SVM predicted the testset in 6.618261836003512 second(s)\n"
     ]
    },
    {
     "data": {
      "text/html": [
       "<div>\n",
       "<style scoped>\n",
       "    .dataframe tbody tr th:only-of-type {\n",
       "        vertical-align: middle;\n",
       "    }\n",
       "\n",
       "    .dataframe tbody tr th {\n",
       "        vertical-align: top;\n",
       "    }\n",
       "\n",
       "    .dataframe thead th {\n",
       "        text-align: right;\n",
       "    }\n",
       "</style>\n",
       "<table border=\"1\" class=\"dataframe\">\n",
       "  <thead>\n",
       "    <tr style=\"text-align: right;\">\n",
       "      <th></th>\n",
       "      <th>0</th>\n",
       "      <th>1</th>\n",
       "      <th>accuracy</th>\n",
       "      <th>macro avg</th>\n",
       "      <th>weighted avg</th>\n",
       "    </tr>\n",
       "  </thead>\n",
       "  <tbody>\n",
       "    <tr>\n",
       "      <th>precision</th>\n",
       "      <td>0.992157</td>\n",
       "      <td>0.936754</td>\n",
       "      <td>0.961892</td>\n",
       "      <td>0.964455</td>\n",
       "      <td>0.963609</td>\n",
       "    </tr>\n",
       "    <tr>\n",
       "      <th>recall</th>\n",
       "      <td>0.928724</td>\n",
       "      <td>0.993094</td>\n",
       "      <td>0.961892</td>\n",
       "      <td>0.960909</td>\n",
       "      <td>0.961892</td>\n",
       "    </tr>\n",
       "    <tr>\n",
       "      <th>f1-score</th>\n",
       "      <td>0.959393</td>\n",
       "      <td>0.964101</td>\n",
       "      <td>0.961892</td>\n",
       "      <td>0.961747</td>\n",
       "      <td>0.961819</td>\n",
       "    </tr>\n",
       "    <tr>\n",
       "      <th>support</th>\n",
       "      <td>3269.000000</td>\n",
       "      <td>3475.000000</td>\n",
       "      <td>0.961892</td>\n",
       "      <td>6744.000000</td>\n",
       "      <td>6744.000000</td>\n",
       "    </tr>\n",
       "  </tbody>\n",
       "</table>\n",
       "</div>"
      ],
      "text/plain": [
       "                     0            1  accuracy    macro avg  weighted avg\n",
       "precision     0.992157     0.936754  0.961892     0.964455      0.963609\n",
       "recall        0.928724     0.993094  0.961892     0.960909      0.961892\n",
       "f1-score      0.959393     0.964101  0.961892     0.961747      0.961819\n",
       "support    3269.000000  3475.000000  0.961892  6744.000000   6744.000000"
      ]
     },
     "execution_count": 6,
     "metadata": {},
     "output_type": "execute_result"
    }
   ],
   "source": [
    "reference_report, X_test, y_test, y_pred = classification.svm(X,y,test_size, random_state)\n",
    "\n",
    "reference_report"
   ]
  },
  {
   "attachments": {},
   "cell_type": "markdown",
   "metadata": {},
   "source": [
    "this is our reference svm for the comparison"
   ]
  },
  {
   "cell_type": "code",
   "execution_count": 7,
   "metadata": {},
   "outputs": [
    {
     "name": "stdout",
     "output_type": "stream",
     "text": [
      "Got 257 classificaton mistakes\n"
     ]
    },
    {
     "data": {
      "image/png": "[encoded data removed]",
      "text/plain": [
       "<Figure size 216x162 with 1 Axes>"
      ]
     },
     "metadata": {
      "needs_background": "light"
     },
     "output_type": "display_data"
    }
   ],
   "source": [
    "x_wrong = X_test[y_test != y_pred]\n",
    "print(\"Got %d classificaton mistakes\" % len(x_wrong))\n",
    "\n",
    "fig = plt.figure()\n",
    "ax = fig.add_subplot(projection='3d')\n",
    "ax.scatter3D(X_test[:,0], X_test[:,1], X_test[:,2],c=y_pred, marker=\"o\")\n",
    "ax.scatter(x_wrong[:,0], x_wrong[:,1], x_wrong[:,2], color='red', marker=\"x\")\n",
    "ax.view_init(-175,140)\n",
    "plt.show()"
   ]
  },
  {
   "attachments": {},
   "cell_type": "markdown",
   "metadata": {},
   "source": [
    "# K-Means + Elbow plot"
   ]
  },
  {
   "attachments": {},
   "cell_type": "markdown",
   "metadata": {},
   "source": [
    "Now we create our elbow graph. A cluster count above 25 has not much sense"
   ]
  },
  {
   "cell_type": "code",
   "execution_count": 8,
   "metadata": {},
   "outputs": [
    {
     "data": {
      "image/png": "[encoded data removed]",
      "text/plain": [
       "<Figure size 432x288 with 1 Axes>"
      ]
     },
     "metadata": {
      "needs_background": "light"
     },
     "output_type": "display_data"
    }
   ],
   "source": [
    "max_cluster = 25\n",
    "inertias = classification.elbow_inertias_list(X,max_cluster)\n",
    "\n",
    "plt.plot(range(1,max_cluster), inertias, marker='o')\n",
    "plt.title('Enron')\n",
    "plt.xlabel('Number of clusters')\n",
    "plt.ylabel('Inertia')\n",
    "plt.savefig('enron_elbow_high_dim.pdf')\n",
    "plt.show() "
   ]
  },
  {
   "cell_type": "code",
   "execution_count": 9,
   "metadata": {},
   "outputs": [
    {
     "data": {
      "image/png": "[encoded data removed]",
      "text/plain": [
       "<Figure size 432x288 with 1 Axes>"
      ]
     },
     "metadata": {
      "needs_background": "light"
     },
     "output_type": "display_data"
    }
   ],
   "source": [
    "max_cluster = 25\n",
    "inertias = classification.elbow_inertias_list(X[:,:2],max_cluster)\n",
    "\n",
    "plt.figure()\n",
    "plt.plot(range(1,max_cluster), inertias, marker='o')\n",
    "plt.title('Enron')\n",
    "plt.xlabel('Number of clusters')\n",
    "plt.ylabel('Inertia')\n",
    "plt.savefig('enron_elbow_two_dim.pdf')\n",
    "plt.show() "
   ]
  },
  {
   "attachments": {},
   "cell_type": "markdown",
   "metadata": {},
   "source": [
    "# SVM and K-Means merging hypothesis"
   ]
  },
  {
   "attachments": {},
   "cell_type": "markdown",
   "metadata": {},
   "source": [
    "Now we test our hypothesis, wether replacing the original labels with k-means generated labels can improve a svm classification"
   ]
  },
  {
   "cell_type": "code",
   "execution_count": 10,
   "metadata": {},
   "outputs": [
    {
     "name": "stdout",
     "output_type": "stream",
     "text": [
      "It took 45.247589998994954 second(s) to search the best k-means clustering for merging hypothesis\n",
      "It took 45.687650124993525 second(s) to complete the svm classification combined with k-means - merging hypothesis\n"
     ]
    },
    {
     "data": {
      "text/html": [
       "<div>\n",
       "<style scoped>\n",
       "    .dataframe tbody tr th:only-of-type {\n",
       "        vertical-align: middle;\n",
       "    }\n",
       "\n",
       "    .dataframe tbody tr th {\n",
       "        vertical-align: top;\n",
       "    }\n",
       "\n",
       "    .dataframe thead th {\n",
       "        text-align: right;\n",
       "    }\n",
       "</style>\n",
       "<table border=\"1\" class=\"dataframe\">\n",
       "  <thead>\n",
       "    <tr style=\"text-align: right;\">\n",
       "      <th></th>\n",
       "      <th>0</th>\n",
       "      <th>1</th>\n",
       "      <th>accuracy</th>\n",
       "      <th>macro avg</th>\n",
       "      <th>weighted avg</th>\n",
       "    </tr>\n",
       "  </thead>\n",
       "  <tbody>\n",
       "    <tr>\n",
       "      <th>precision</th>\n",
       "      <td>0.475788</td>\n",
       "      <td>0.0</td>\n",
       "      <td>0.467675</td>\n",
       "      <td>0.237894</td>\n",
       "      <td>0.230627</td>\n",
       "    </tr>\n",
       "    <tr>\n",
       "      <th>recall</th>\n",
       "      <td>0.964821</td>\n",
       "      <td>0.0</td>\n",
       "      <td>0.467675</td>\n",
       "      <td>0.482411</td>\n",
       "      <td>0.467675</td>\n",
       "    </tr>\n",
       "    <tr>\n",
       "      <th>f1-score</th>\n",
       "      <td>0.637300</td>\n",
       "      <td>0.0</td>\n",
       "      <td>0.467675</td>\n",
       "      <td>0.318650</td>\n",
       "      <td>0.308917</td>\n",
       "    </tr>\n",
       "    <tr>\n",
       "      <th>support</th>\n",
       "      <td>3269.000000</td>\n",
       "      <td>3475.0</td>\n",
       "      <td>0.467675</td>\n",
       "      <td>6744.000000</td>\n",
       "      <td>6744.000000</td>\n",
       "    </tr>\n",
       "  </tbody>\n",
       "</table>\n",
       "</div>"
      ],
      "text/plain": [
       "                     0       1  accuracy    macro avg  weighted avg\n",
       "precision     0.475788     0.0  0.467675     0.237894      0.230627\n",
       "recall        0.964821     0.0  0.467675     0.482411      0.467675\n",
       "f1-score      0.637300     0.0  0.467675     0.318650      0.308917\n",
       "support    3269.000000  3475.0  0.467675  6744.000000   6744.000000"
      ]
     },
     "execution_count": 10,
     "metadata": {},
     "output_type": "execute_result"
    }
   ],
   "source": [
    "report, X_test, y_test, y_pred = classification.svm_merging_hypothesis(2,X,y)\n",
    "report"
   ]
  },
  {
   "attachments": {},
   "cell_type": "markdown",
   "metadata": {},
   "source": [
    "k-means with the original cluster count does not improve the classification"
   ]
  },
  {
   "cell_type": "code",
   "execution_count": 11,
   "metadata": {},
   "outputs": [
    {
     "name": "stdout",
     "output_type": "stream",
     "text": [
      "Got 3590 classificaton mistakes\n"
     ]
    },
    {
     "data": {
      "image/png": "[encoded data removed]",
      "text/plain": [
       "<Figure size 432x288 with 1 Axes>"
      ]
     },
     "metadata": {
      "needs_background": "light"
     },
     "output_type": "display_data"
    }
   ],
   "source": [
    "x_wrong = X_test[y_test != y_pred]\n",
    "print(\"Got %d classificaton mistakes\" % len(x_wrong))\n",
    "\n",
    "fig = plt.figure()\n",
    "ax = fig.add_subplot(projection='3d')\n",
    "ax.scatter3D(X_test[:,0], X_test[:,1], X_test[:,2],c=y_pred, marker=\"o\")\n",
    "ax.scatter(x_wrong[:,0], x_wrong[:,1], x_wrong[:,2], color='red', marker=\"x\")\n",
    "ax.view_init(-175,140)\n",
    "plt.show()"
   ]
  },
  {
   "attachments": {},
   "cell_type": "markdown",
   "metadata": {},
   "source": [
    "Now we estimate a good cluster count based on the graph"
   ]
  },
  {
   "cell_type": "code",
   "execution_count": 36,
   "metadata": {},
   "outputs": [
    {
     "name": "stdout",
     "output_type": "stream",
     "text": [
      "It took 278.54228021799645 second(s) to search the best k-means clustering for merging hypothesis\n",
      "It took 356.8115813579934 second(s) to complete the svm classification combined with k-means - merging hypothesis\n"
     ]
    },
    {
     "data": {
      "text/html": [
       "<div>\n",
       "<style scoped>\n",
       "    .dataframe tbody tr th:only-of-type {\n",
       "        vertical-align: middle;\n",
       "    }\n",
       "\n",
       "    .dataframe tbody tr th {\n",
       "        vertical-align: top;\n",
       "    }\n",
       "\n",
       "    .dataframe thead th {\n",
       "        text-align: right;\n",
       "    }\n",
       "</style>\n",
       "<table border=\"1\" class=\"dataframe\">\n",
       "  <thead>\n",
       "    <tr style=\"text-align: right;\">\n",
       "      <th></th>\n",
       "      <th>0</th>\n",
       "      <th>1</th>\n",
       "      <th>accuracy</th>\n",
       "      <th>macro avg</th>\n",
       "      <th>weighted avg</th>\n",
       "    </tr>\n",
       "  </thead>\n",
       "  <tbody>\n",
       "    <tr>\n",
       "      <th>precision</th>\n",
       "      <td>0.694568</td>\n",
       "      <td>0.676185</td>\n",
       "      <td>0.684164</td>\n",
       "      <td>0.685377</td>\n",
       "      <td>0.685096</td>\n",
       "    </tr>\n",
       "    <tr>\n",
       "      <th>recall</th>\n",
       "      <td>0.621903</td>\n",
       "      <td>0.742734</td>\n",
       "      <td>0.684164</td>\n",
       "      <td>0.682318</td>\n",
       "      <td>0.684164</td>\n",
       "    </tr>\n",
       "    <tr>\n",
       "      <th>f1-score</th>\n",
       "      <td>0.656230</td>\n",
       "      <td>0.707899</td>\n",
       "      <td>0.684164</td>\n",
       "      <td>0.682064</td>\n",
       "      <td>0.682854</td>\n",
       "    </tr>\n",
       "    <tr>\n",
       "      <th>support</th>\n",
       "      <td>3269.000000</td>\n",
       "      <td>3475.000000</td>\n",
       "      <td>0.684164</td>\n",
       "      <td>6744.000000</td>\n",
       "      <td>6744.000000</td>\n",
       "    </tr>\n",
       "  </tbody>\n",
       "</table>\n",
       "</div>"
      ],
      "text/plain": [
       "                     0            1  accuracy    macro avg  weighted avg\n",
       "precision     0.694568     0.676185  0.684164     0.685377      0.685096\n",
       "recall        0.621903     0.742734  0.684164     0.682318      0.684164\n",
       "f1-score      0.656230     0.707899  0.684164     0.682064      0.682854\n",
       "support    3269.000000  3475.000000  0.684164  6744.000000   6744.000000"
      ]
     },
     "execution_count": 36,
     "metadata": {},
     "output_type": "execute_result"
    }
   ],
   "source": [
    "report, X_test, y_test, y_pred = classification.svm_merging_hypothesis(6,X,y)\n",
    "report"
   ]
  },
  {
   "cell_type": "code",
   "execution_count": 38,
   "metadata": {},
   "outputs": [
    {
     "name": "stdout",
     "output_type": "stream",
     "text": [
      "Got 2130 classificaton mistakes\n"
     ]
    },
    {
     "data": {
      "image/png": "[encoded data removed]",
      "text/plain": [
       "<Figure size 432x288 with 1 Axes>"
      ]
     },
     "metadata": {
      "needs_background": "light"
     },
     "output_type": "display_data"
    }
   ],
   "source": [
    "x_wrong = X_test[y_test != y_pred]\n",
    "print(\"Got %d classificaton mistakes\" % len(x_wrong))\n",
    "\n",
    "fig = plt.figure()\n",
    "ax = fig.add_subplot(projection='3d')\n",
    "ax.scatter3D(X_test[:,0], X_test[:,1], X_test[:,2],c=y_pred, marker=\"o\")\n",
    "ax.scatter3D(x_wrong[:,0], x_wrong[:,1], x_wrong[:,2], color='red', marker=\"x\")\n",
    "ax.view_init(-175,140)\n",
    "plt.show()"
   ]
  },
  {
   "attachments": {},
   "cell_type": "markdown",
   "metadata": {},
   "source": [
    "For increasing the number of clusters, the classification is getting worse.\n",
    "The classification results are worse than the normal SVM\n",
    " \n",
    "-> Merging is not a good approach"
   ]
  },
  {
   "attachments": {},
   "cell_type": "markdown",
   "metadata": {},
   "source": [
    "# Adding K-means clustering as new feature"
   ]
  },
  {
   "attachments": {},
   "cell_type": "markdown",
   "metadata": {},
   "source": [
    "we add now the k-means clustering result as a new column in our dataset and then classify the data with a svm. -> Test this approach with cluster count between 2 and 25"
   ]
  },
  {
   "cell_type": "code",
   "execution_count": 14,
   "metadata": {},
   "outputs": [
    {
     "data": {
      "text/html": [
       "<div>\n",
       "<style scoped>\n",
       "    .dataframe tbody tr th:only-of-type {\n",
       "        vertical-align: middle;\n",
       "    }\n",
       "\n",
       "    .dataframe tbody tr th {\n",
       "        vertical-align: top;\n",
       "    }\n",
       "\n",
       "    .dataframe thead th {\n",
       "        text-align: right;\n",
       "    }\n",
       "</style>\n",
       "<table border=\"1\" class=\"dataframe\">\n",
       "  <thead>\n",
       "    <tr style=\"text-align: right;\">\n",
       "      <th></th>\n",
       "      <th>0</th>\n",
       "      <th>1</th>\n",
       "      <th>accuracy</th>\n",
       "      <th>macro avg</th>\n",
       "      <th>weighted avg</th>\n",
       "    </tr>\n",
       "  </thead>\n",
       "  <tbody>\n",
       "    <tr>\n",
       "      <th>precision</th>\n",
       "      <td>0.992157</td>\n",
       "      <td>0.936754</td>\n",
       "      <td>0.961892</td>\n",
       "      <td>0.964455</td>\n",
       "      <td>0.963609</td>\n",
       "    </tr>\n",
       "    <tr>\n",
       "      <th>recall</th>\n",
       "      <td>0.928724</td>\n",
       "      <td>0.993094</td>\n",
       "      <td>0.961892</td>\n",
       "      <td>0.960909</td>\n",
       "      <td>0.961892</td>\n",
       "    </tr>\n",
       "    <tr>\n",
       "      <th>f1-score</th>\n",
       "      <td>0.959393</td>\n",
       "      <td>0.964101</td>\n",
       "      <td>0.961892</td>\n",
       "      <td>0.961747</td>\n",
       "      <td>0.961819</td>\n",
       "    </tr>\n",
       "    <tr>\n",
       "      <th>support</th>\n",
       "      <td>3269.000000</td>\n",
       "      <td>3475.000000</td>\n",
       "      <td>0.961892</td>\n",
       "      <td>6744.000000</td>\n",
       "      <td>6744.000000</td>\n",
       "    </tr>\n",
       "  </tbody>\n",
       "</table>\n",
       "</div>"
      ],
      "text/plain": [
       "                     0            1  accuracy    macro avg  weighted avg\n",
       "precision     0.992157     0.936754  0.961892     0.964455      0.963609\n",
       "recall        0.928724     0.993094  0.961892     0.960909      0.961892\n",
       "f1-score      0.959393     0.964101  0.961892     0.961747      0.961819\n",
       "support    3269.000000  3475.000000  0.961892  6744.000000   6744.000000"
      ]
     },
     "execution_count": 14,
     "metadata": {},
     "output_type": "execute_result"
    }
   ],
   "source": [
    "reference_report"
   ]
  },
  {
   "cell_type": "code",
   "execution_count": 15,
   "metadata": {},
   "outputs": [
    {
     "data": {
      "text/html": [
       "<div>\n",
       "<style scoped>\n",
       "    .dataframe tbody tr th:only-of-type {\n",
       "        vertical-align: middle;\n",
       "    }\n",
       "\n",
       "    .dataframe tbody tr th {\n",
       "        vertical-align: top;\n",
       "    }\n",
       "\n",
       "    .dataframe thead th {\n",
       "        text-align: right;\n",
       "    }\n",
       "</style>\n",
       "<table border=\"1\" class=\"dataframe\">\n",
       "  <thead>\n",
       "    <tr style=\"text-align: right;\">\n",
       "      <th></th>\n",
       "      <th>Number_of_clusters</th>\n",
       "      <th>Accuracy</th>\n",
       "      <th>F_one_Score</th>\n",
       "      <th>Time</th>\n",
       "    </tr>\n",
       "  </thead>\n",
       "  <tbody>\n",
       "    <tr>\n",
       "      <th>0</th>\n",
       "      <td>2.0</td>\n",
       "      <td>0.961595</td>\n",
       "      <td>0.959077</td>\n",
       "      <td>46.699529</td>\n",
       "    </tr>\n",
       "    <tr>\n",
       "      <th>1</th>\n",
       "      <td>3.0</td>\n",
       "      <td>0.959520</td>\n",
       "      <td>0.956770</td>\n",
       "      <td>54.390200</td>\n",
       "    </tr>\n",
       "    <tr>\n",
       "      <th>2</th>\n",
       "      <td>4.0</td>\n",
       "      <td>0.932236</td>\n",
       "      <td>0.926892</td>\n",
       "      <td>69.120607</td>\n",
       "    </tr>\n",
       "    <tr>\n",
       "      <th>3</th>\n",
       "      <td>5.0</td>\n",
       "      <td>0.831702</td>\n",
       "      <td>0.829195</td>\n",
       "      <td>94.315560</td>\n",
       "    </tr>\n",
       "    <tr>\n",
       "      <th>4</th>\n",
       "      <td>6.0</td>\n",
       "      <td>0.529508</td>\n",
       "      <td>0.517854</td>\n",
       "      <td>86.084847</td>\n",
       "    </tr>\n",
       "    <tr>\n",
       "      <th>5</th>\n",
       "      <td>7.0</td>\n",
       "      <td>0.448102</td>\n",
       "      <td>0.418982</td>\n",
       "      <td>103.178124</td>\n",
       "    </tr>\n",
       "    <tr>\n",
       "      <th>6</th>\n",
       "      <td>8.0</td>\n",
       "      <td>0.536477</td>\n",
       "      <td>0.529642</td>\n",
       "      <td>83.837199</td>\n",
       "    </tr>\n",
       "    <tr>\n",
       "      <th>7</th>\n",
       "      <td>9.0</td>\n",
       "      <td>0.213523</td>\n",
       "      <td>0.172026</td>\n",
       "      <td>155.574670</td>\n",
       "    </tr>\n",
       "    <tr>\n",
       "      <th>8</th>\n",
       "      <td>10.0</td>\n",
       "      <td>0.745107</td>\n",
       "      <td>0.748427</td>\n",
       "      <td>101.228525</td>\n",
       "    </tr>\n",
       "    <tr>\n",
       "      <th>9</th>\n",
       "      <td>11.0</td>\n",
       "      <td>0.758304</td>\n",
       "      <td>0.720890</td>\n",
       "      <td>76.767513</td>\n",
       "    </tr>\n",
       "    <tr>\n",
       "      <th>10</th>\n",
       "      <td>12.0</td>\n",
       "      <td>0.665480</td>\n",
       "      <td>0.642018</td>\n",
       "      <td>85.464144</td>\n",
       "    </tr>\n",
       "    <tr>\n",
       "      <th>11</th>\n",
       "      <td>13.0</td>\n",
       "      <td>0.624407</td>\n",
       "      <td>0.608803</td>\n",
       "      <td>89.192398</td>\n",
       "    </tr>\n",
       "    <tr>\n",
       "      <th>12</th>\n",
       "      <td>14.0</td>\n",
       "      <td>0.565688</td>\n",
       "      <td>0.506985</td>\n",
       "      <td>117.609557</td>\n",
       "    </tr>\n",
       "    <tr>\n",
       "      <th>13</th>\n",
       "      <td>15.0</td>\n",
       "      <td>0.562278</td>\n",
       "      <td>0.501183</td>\n",
       "      <td>118.029218</td>\n",
       "    </tr>\n",
       "    <tr>\n",
       "      <th>14</th>\n",
       "      <td>16.0</td>\n",
       "      <td>0.482503</td>\n",
       "      <td>0.466198</td>\n",
       "      <td>112.404331</td>\n",
       "    </tr>\n",
       "    <tr>\n",
       "      <th>15</th>\n",
       "      <td>17.0</td>\n",
       "      <td>0.591340</td>\n",
       "      <td>0.604591</td>\n",
       "      <td>100.117650</td>\n",
       "    </tr>\n",
       "    <tr>\n",
       "      <th>16</th>\n",
       "      <td>18.0</td>\n",
       "      <td>0.650801</td>\n",
       "      <td>0.639963</td>\n",
       "      <td>80.529743</td>\n",
       "    </tr>\n",
       "    <tr>\n",
       "      <th>17</th>\n",
       "      <td>19.0</td>\n",
       "      <td>0.463671</td>\n",
       "      <td>0.347230</td>\n",
       "      <td>134.095668</td>\n",
       "    </tr>\n",
       "    <tr>\n",
       "      <th>18</th>\n",
       "      <td>20.0</td>\n",
       "      <td>0.495107</td>\n",
       "      <td>0.484481</td>\n",
       "      <td>105.437556</td>\n",
       "    </tr>\n",
       "    <tr>\n",
       "      <th>19</th>\n",
       "      <td>21.0</td>\n",
       "      <td>0.576068</td>\n",
       "      <td>0.612864</td>\n",
       "      <td>125.317363</td>\n",
       "    </tr>\n",
       "    <tr>\n",
       "      <th>20</th>\n",
       "      <td>22.0</td>\n",
       "      <td>0.552491</td>\n",
       "      <td>0.583379</td>\n",
       "      <td>129.448640</td>\n",
       "    </tr>\n",
       "    <tr>\n",
       "      <th>21</th>\n",
       "      <td>23.0</td>\n",
       "      <td>0.807977</td>\n",
       "      <td>0.789534</td>\n",
       "      <td>68.531563</td>\n",
       "    </tr>\n",
       "    <tr>\n",
       "      <th>22</th>\n",
       "      <td>24.0</td>\n",
       "      <td>0.262307</td>\n",
       "      <td>0.279508</td>\n",
       "      <td>143.615619</td>\n",
       "    </tr>\n",
       "    <tr>\n",
       "      <th>23</th>\n",
       "      <td>25.0</td>\n",
       "      <td>0.762900</td>\n",
       "      <td>0.690895</td>\n",
       "      <td>128.996567</td>\n",
       "    </tr>\n",
       "  </tbody>\n",
       "</table>\n",
       "</div>"
      ],
      "text/plain": [
       "    Number_of_clusters  Accuracy  F_one_Score        Time\n",
       "0                  2.0  0.961595     0.959077   46.699529\n",
       "1                  3.0  0.959520     0.956770   54.390200\n",
       "2                  4.0  0.932236     0.926892   69.120607\n",
       "3                  5.0  0.831702     0.829195   94.315560\n",
       "4                  6.0  0.529508     0.517854   86.084847\n",
       "5                  7.0  0.448102     0.418982  103.178124\n",
       "6                  8.0  0.536477     0.529642   83.837199\n",
       "7                  9.0  0.213523     0.172026  155.574670\n",
       "8                 10.0  0.745107     0.748427  101.228525\n",
       "9                 11.0  0.758304     0.720890   76.767513\n",
       "10                12.0  0.665480     0.642018   85.464144\n",
       "11                13.0  0.624407     0.608803   89.192398\n",
       "12                14.0  0.565688     0.506985  117.609557\n",
       "13                15.0  0.562278     0.501183  118.029218\n",
       "14                16.0  0.482503     0.466198  112.404331\n",
       "15                17.0  0.591340     0.604591  100.117650\n",
       "16                18.0  0.650801     0.639963   80.529743\n",
       "17                19.0  0.463671     0.347230  134.095668\n",
       "18                20.0  0.495107     0.484481  105.437556\n",
       "19                21.0  0.576068     0.612864  125.317363\n",
       "20                22.0  0.552491     0.583379  129.448640\n",
       "21                23.0  0.807977     0.789534   68.531563\n",
       "22                24.0  0.262307     0.279508  143.615619\n",
       "23                25.0  0.762900     0.690895  128.996567"
      ]
     },
     "execution_count": 15,
     "metadata": {},
     "output_type": "execute_result"
    }
   ],
   "source": [
    "report = classification.k_means_cluster_search(X,y,25)\n",
    "report"
   ]
  },
  {
   "attachments": {},
   "cell_type": "markdown",
   "metadata": {},
   "source": [
    "Doesn't seems to be a good aproach too."
   ]
  },
  {
   "attachments": {},
   "cell_type": "markdown",
   "metadata": {},
   "source": [
    "# Combine both approaches"
   ]
  },
  {
   "attachments": {},
   "cell_type": "markdown",
   "metadata": {},
   "source": [
    "Add the merging approach as a new feature vector to the dataset and then classify with svm.\n"
   ]
  },
  {
   "cell_type": "code",
   "execution_count": 39,
   "metadata": {},
   "outputs": [
    {
     "name": "stdout",
     "output_type": "stream",
     "text": [
      "It took 338.1263395159913 second(s) to search the best k-means clustering for merging hypothesis\n"
     ]
    },
    {
     "data": {
      "text/html": [
       "<div>\n",
       "<style scoped>\n",
       "    .dataframe tbody tr th:only-of-type {\n",
       "        vertical-align: middle;\n",
       "    }\n",
       "\n",
       "    .dataframe tbody tr th {\n",
       "        vertical-align: top;\n",
       "    }\n",
       "\n",
       "    .dataframe thead th {\n",
       "        text-align: right;\n",
       "    }\n",
       "</style>\n",
       "<table border=\"1\" class=\"dataframe\">\n",
       "  <thead>\n",
       "    <tr style=\"text-align: right;\">\n",
       "      <th></th>\n",
       "      <th>Accuracy</th>\n",
       "      <th>F_one_Score</th>\n",
       "      <th>Time</th>\n",
       "    </tr>\n",
       "  </thead>\n",
       "  <tbody>\n",
       "    <tr>\n",
       "      <th>0</th>\n",
       "      <td>0.94825</td>\n",
       "      <td>0.944506</td>\n",
       "      <td>413.739409</td>\n",
       "    </tr>\n",
       "  </tbody>\n",
       "</table>\n",
       "</div>"
      ],
      "text/plain": [
       "   Accuracy  F_one_Score        Time\n",
       "0   0.94825     0.944506  413.739409"
      ]
     },
     "execution_count": 39,
     "metadata": {},
     "output_type": "execute_result"
    }
   ],
   "source": [
    "report = classification.k_means_cluster_search_merging_hypothesis(X,y,6)\n",
    "report"
   ]
  },
  {
   "cell_type": "code",
   "execution_count": null,
   "metadata": {},
   "outputs": [],
   "source": [
    "report = classification.k_means_cluster_search_merging_hypothesis(X,y,21)\n",
    "report"
   ]
  },
  {
   "attachments": {},
   "cell_type": "markdown",
   "metadata": {},
   "source": [
    "After a running time of ca. 1700min we interrupt the algorithm and decided this computation time is too high"
   ]
  }
 ],
 "metadata": {
  "kernelspec": {
   "display_name": "Python 3",
   "language": "python",
   "name": "python3"
  },
  "language_info": {
   "codemirror_mode": {
    "name": "ipython",
    "version": 3
   },
   "file_extension": ".py",
   "mimetype": "text/x-python",
   "name": "python",
   "nbconvert_exporter": "python",
   "pygments_lexer": "ipython3",
   "version": "3.10.6"
  },
  "orig_nbformat": 4,
  "vscode": {
   "interpreter": {
    "hash": "e7370f93d1d0cde622a1f8e1c04877d8463912d04d973331ad4851f04de6915a"
   }
  }
 },
 "nbformat": 4,
 "nbformat_minor": 2
}
